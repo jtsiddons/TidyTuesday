{
 "cells": [
  {
   "cell_type": "code",
   "execution_count": 2,
   "metadata": {
    "vscode": {
     "languageId": "r"
    }
   },
   "outputs": [
    {
     "name": "stderr",
     "output_type": "stream",
     "text": [
      "── \u001b[1mAttaching packages\u001b[22m ─────────────────────────────────────── tidyverse 1.3.1 ──\n",
      "\n",
      "\u001b[32m✔\u001b[39m \u001b[34mggplot2\u001b[39m 3.3.6     \u001b[32m✔\u001b[39m \u001b[34mpurrr  \u001b[39m 0.3.4\n",
      "\u001b[32m✔\u001b[39m \u001b[34mtibble \u001b[39m 3.1.6     \u001b[32m✔\u001b[39m \u001b[34mdplyr  \u001b[39m 1.0.9\n",
      "\u001b[32m✔\u001b[39m \u001b[34mtidyr  \u001b[39m 1.2.0     \u001b[32m✔\u001b[39m \u001b[34mstringr\u001b[39m 1.4.0\n",
      "\u001b[32m✔\u001b[39m \u001b[34mreadr  \u001b[39m 2.1.2     \u001b[32m✔\u001b[39m \u001b[34mforcats\u001b[39m 0.5.1\n",
      "\n",
      "── \u001b[1mConflicts\u001b[22m ────────────────────────────────────────── tidyverse_conflicts() ──\n",
      "\u001b[31m✖\u001b[39m \u001b[34mdplyr\u001b[39m::\u001b[32mfilter()\u001b[39m masks \u001b[34mstats\u001b[39m::filter()\n",
      "\u001b[31m✖\u001b[39m \u001b[34mdplyr\u001b[39m::\u001b[32mlag()\u001b[39m    masks \u001b[34mstats\u001b[39m::lag()\n",
      "\n"
     ]
    }
   ],
   "source": [
    "library(tidyverse)"
   ]
  },
  {
   "cell_type": "markdown",
   "metadata": {},
   "source": [
    "## Let's load in the data"
   ]
  },
  {
   "cell_type": "code",
   "execution_count": 4,
   "metadata": {
    "vscode": {
     "languageId": "r"
    }
   },
   "outputs": [
    {
     "data": {
      "text/html": [
       "<table class=\"dataframe\">\n",
       "<caption>A data.frame: 6 × 16</caption>\n",
       "<thead>\n",
       "\t<tr><th></th><th scope=col>row_id</th><th scope=col>date</th><th scope=col>team_1</th><th scope=col>score_1</th><th scope=col>score_2</th><th scope=col>team_2</th><th scope=col>venue</th><th scope=col>tournament</th><th scope=col>stage</th><th scope=col>t1_game_no</th><th scope=col>t2_game_no</th><th scope=col>series</th><th scope=col>margin</th><th scope=col>winner</th><th scope=col>loser</th><th scope=col>notes</th></tr>\n",
       "\t<tr><th></th><th scope=col>&lt;int&gt;</th><th scope=col>&lt;chr&gt;</th><th scope=col>&lt;chr&gt;</th><th scope=col>&lt;chr&gt;</th><th scope=col>&lt;chr&gt;</th><th scope=col>&lt;chr&gt;</th><th scope=col>&lt;chr&gt;</th><th scope=col>&lt;chr&gt;</th><th scope=col>&lt;chr&gt;</th><th scope=col>&lt;int&gt;</th><th scope=col>&lt;int&gt;</th><th scope=col>&lt;int&gt;</th><th scope=col>&lt;int&gt;</th><th scope=col>&lt;chr&gt;</th><th scope=col>&lt;chr&gt;</th><th scope=col>&lt;chr&gt;</th></tr>\n",
       "</thead>\n",
       "<tbody>\n",
       "\t<tr><th scope=row>1</th><td>NA</td><td>1997-03-15</td><td>New Zealand Wild Ducks</td><td>54</td><td>0</td><td>Japan      </td><td>Hong Kong</td><td>Hong Kong Sevens</td><td>Pool A</td><td>1</td><td>1</td><td>1</td><td>54</td><td>New Zealand Wild Ducks</td><td>Japan      </td><td>NA</td></tr>\n",
       "\t<tr><th scope=row>2</th><td> 2</td><td>1997-03-15</td><td>England               </td><td>10</td><td>7</td><td>Australia  </td><td>Hong Kong</td><td>Hong Kong Sevens</td><td>Pool A</td><td>1</td><td>1</td><td>1</td><td> 3</td><td>England               </td><td>Australia  </td><td>NA</td></tr>\n",
       "\t<tr><th scope=row>3</th><td> 3</td><td>1997-03-15</td><td>Canada                </td><td>31</td><td>0</td><td>Netherlands</td><td>Hong Kong</td><td>Hong Kong Sevens</td><td>Pool A</td><td>1</td><td>1</td><td>1</td><td>31</td><td>Canada                </td><td>Netherlands</td><td>NA</td></tr>\n",
       "\t<tr><th scope=row>4</th><td> 4</td><td>1997-03-15</td><td>Hong Kong             </td><td>12</td><td>5</td><td>Fiji       </td><td>Hong Kong</td><td>Hong Kong Sevens</td><td>Pool B</td><td>1</td><td>1</td><td>1</td><td> 7</td><td>Hong Kong             </td><td>Fiji       </td><td>NA</td></tr>\n",
       "\t<tr><th scope=row>5</th><td> 5</td><td>1997-03-15</td><td>United States         </td><td>26</td><td>5</td><td>Scotland   </td><td>Hong Kong</td><td>Hong Kong Sevens</td><td>Pool B</td><td>1</td><td>1</td><td>1</td><td>21</td><td>United States         </td><td>Scotland   </td><td>NA</td></tr>\n",
       "\t<tr><th scope=row>6</th><td> 6</td><td>1997-03-15</td><td>Arabian Gulf          </td><td>42</td><td>0</td><td>Singapore  </td><td>Hong Kong</td><td>Hong Kong Sevens</td><td>Pool B</td><td>1</td><td>1</td><td>1</td><td>42</td><td>Arabian Gulf          </td><td>Singapore  </td><td>NA</td></tr>\n",
       "</tbody>\n",
       "</table>\n"
      ],
      "text/latex": [
       "A data.frame: 6 × 16\n",
       "\\begin{tabular}{r|llllllllllllllll}\n",
       "  & row\\_id & date & team\\_1 & score\\_1 & score\\_2 & team\\_2 & venue & tournament & stage & t1\\_game\\_no & t2\\_game\\_no & series & margin & winner & loser & notes\\\\\n",
       "  & <int> & <chr> & <chr> & <chr> & <chr> & <chr> & <chr> & <chr> & <chr> & <int> & <int> & <int> & <int> & <chr> & <chr> & <chr>\\\\\n",
       "\\hline\n",
       "\t1 & NA & 1997-03-15 & New Zealand Wild Ducks & 54 & 0 & Japan       & Hong Kong & Hong Kong Sevens & Pool A & 1 & 1 & 1 & 54 & New Zealand Wild Ducks & Japan       & NA\\\\\n",
       "\t2 &  2 & 1997-03-15 & England                & 10 & 7 & Australia   & Hong Kong & Hong Kong Sevens & Pool A & 1 & 1 & 1 &  3 & England                & Australia   & NA\\\\\n",
       "\t3 &  3 & 1997-03-15 & Canada                 & 31 & 0 & Netherlands & Hong Kong & Hong Kong Sevens & Pool A & 1 & 1 & 1 & 31 & Canada                 & Netherlands & NA\\\\\n",
       "\t4 &  4 & 1997-03-15 & Hong Kong              & 12 & 5 & Fiji        & Hong Kong & Hong Kong Sevens & Pool B & 1 & 1 & 1 &  7 & Hong Kong              & Fiji        & NA\\\\\n",
       "\t5 &  5 & 1997-03-15 & United States          & 26 & 5 & Scotland    & Hong Kong & Hong Kong Sevens & Pool B & 1 & 1 & 1 & 21 & United States          & Scotland    & NA\\\\\n",
       "\t6 &  6 & 1997-03-15 & Arabian Gulf           & 42 & 0 & Singapore   & Hong Kong & Hong Kong Sevens & Pool B & 1 & 1 & 1 & 42 & Arabian Gulf           & Singapore   & NA\\\\\n",
       "\\end{tabular}\n"
      ],
      "text/markdown": [
       "\n",
       "A data.frame: 6 × 16\n",
       "\n",
       "| <!--/--> | row_id &lt;int&gt; | date &lt;chr&gt; | team_1 &lt;chr&gt; | score_1 &lt;chr&gt; | score_2 &lt;chr&gt; | team_2 &lt;chr&gt; | venue &lt;chr&gt; | tournament &lt;chr&gt; | stage &lt;chr&gt; | t1_game_no &lt;int&gt; | t2_game_no &lt;int&gt; | series &lt;int&gt; | margin &lt;int&gt; | winner &lt;chr&gt; | loser &lt;chr&gt; | notes &lt;chr&gt; |\n",
       "|---|---|---|---|---|---|---|---|---|---|---|---|---|---|---|---|---|\n",
       "| 1 | NA | 1997-03-15 | New Zealand Wild Ducks | 54 | 0 | Japan       | Hong Kong | Hong Kong Sevens | Pool A | 1 | 1 | 1 | 54 | New Zealand Wild Ducks | Japan       | NA |\n",
       "| 2 |  2 | 1997-03-15 | England                | 10 | 7 | Australia   | Hong Kong | Hong Kong Sevens | Pool A | 1 | 1 | 1 |  3 | England                | Australia   | NA |\n",
       "| 3 |  3 | 1997-03-15 | Canada                 | 31 | 0 | Netherlands | Hong Kong | Hong Kong Sevens | Pool A | 1 | 1 | 1 | 31 | Canada                 | Netherlands | NA |\n",
       "| 4 |  4 | 1997-03-15 | Hong Kong              | 12 | 5 | Fiji        | Hong Kong | Hong Kong Sevens | Pool B | 1 | 1 | 1 |  7 | Hong Kong              | Fiji        | NA |\n",
       "| 5 |  5 | 1997-03-15 | United States          | 26 | 5 | Scotland    | Hong Kong | Hong Kong Sevens | Pool B | 1 | 1 | 1 | 21 | United States          | Scotland    | NA |\n",
       "| 6 |  6 | 1997-03-15 | Arabian Gulf           | 42 | 0 | Singapore   | Hong Kong | Hong Kong Sevens | Pool B | 1 | 1 | 1 | 42 | Arabian Gulf           | Singapore   | NA |\n",
       "\n"
      ],
      "text/plain": [
       "  row_id date       team_1                 score_1 score_2 team_2     \n",
       "1 NA     1997-03-15 New Zealand Wild Ducks 54      0       Japan      \n",
       "2  2     1997-03-15 England                10      7       Australia  \n",
       "3  3     1997-03-15 Canada                 31      0       Netherlands\n",
       "4  4     1997-03-15 Hong Kong              12      5       Fiji       \n",
       "5  5     1997-03-15 United States          26      5       Scotland   \n",
       "6  6     1997-03-15 Arabian Gulf           42      0       Singapore  \n",
       "  venue     tournament       stage  t1_game_no t2_game_no series margin\n",
       "1 Hong Kong Hong Kong Sevens Pool A 1          1          1      54    \n",
       "2 Hong Kong Hong Kong Sevens Pool A 1          1          1       3    \n",
       "3 Hong Kong Hong Kong Sevens Pool A 1          1          1      31    \n",
       "4 Hong Kong Hong Kong Sevens Pool B 1          1          1       7    \n",
       "5 Hong Kong Hong Kong Sevens Pool B 1          1          1      21    \n",
       "6 Hong Kong Hong Kong Sevens Pool B 1          1          1      42    \n",
       "  winner                 loser       notes\n",
       "1 New Zealand Wild Ducks Japan       NA   \n",
       "2 England                Australia   NA   \n",
       "3 Canada                 Netherlands NA   \n",
       "4 Hong Kong              Fiji        NA   \n",
       "5 United States          Scotland    NA   \n",
       "6 Arabian Gulf           Singapore   NA   "
      ]
     },
     "metadata": {},
     "output_type": "display_data"
    }
   ],
   "source": [
    "sevens <- read.csv(\"./data/sevens.csv\")\n",
    "sevens %>% head"
   ]
  },
  {
   "cell_type": "code",
   "execution_count": 9,
   "metadata": {
    "vscode": {
     "languageId": "r"
    }
   },
   "outputs": [
    {
     "data": {
      "text/html": [
       "<table class=\"dataframe\">\n",
       "<caption>A data.frame: 6 × 15</caption>\n",
       "<thead>\n",
       "\t<tr><th></th><th scope=col>test_no</th><th scope=col>date</th><th scope=col>team_1</th><th scope=col>score_1</th><th scope=col>score_2</th><th scope=col>team_2</th><th scope=col>venue</th><th scope=col>home_test_no</th><th scope=col>away_test_no</th><th scope=col>series_no</th><th scope=col>tournament</th><th scope=col>margin_of_victory</th><th scope=col>home_away_win</th><th scope=col>winner</th><th scope=col>loser</th></tr>\n",
       "\t<tr><th></th><th scope=col>&lt;int&gt;</th><th scope=col>&lt;chr&gt;</th><th scope=col>&lt;chr&gt;</th><th scope=col>&lt;int&gt;</th><th scope=col>&lt;int&gt;</th><th scope=col>&lt;chr&gt;</th><th scope=col>&lt;chr&gt;</th><th scope=col>&lt;int&gt;</th><th scope=col>&lt;int&gt;</th><th scope=col>&lt;int&gt;</th><th scope=col>&lt;chr&gt;</th><th scope=col>&lt;int&gt;</th><th scope=col>&lt;chr&gt;</th><th scope=col>&lt;chr&gt;</th><th scope=col>&lt;chr&gt;</th></tr>\n",
       "</thead>\n",
       "<tbody>\n",
       "\t<tr><th scope=row>1</th><td>1</td><td>1982-06-13</td><td>Netherlands</td><td> 0</td><td> 4</td><td>France     </td><td>Utrecht        </td><td>1</td><td>1</td><td>1</td><td>Friendly</td><td> 4</td><td>A</td><td>France     </td><td>Netherlands</td></tr>\n",
       "\t<tr><th scope=row>2</th><td>2</td><td>1983-06-05</td><td>France     </td><td>10</td><td> 0</td><td>Netherlands</td><td>La Teste       </td><td>2</td><td>2</td><td>2</td><td>Friendly</td><td>10</td><td>H</td><td>France     </td><td>Netherlands</td></tr>\n",
       "\t<tr><th scope=row>3</th><td>3</td><td>1984-05-27</td><td>Netherlands</td><td> 0</td><td> 3</td><td>France     </td><td>Hilversum      </td><td>3</td><td>3</td><td>3</td><td>Friendly</td><td> 3</td><td>A</td><td>France     </td><td>Netherlands</td></tr>\n",
       "\t<tr><th scope=row>4</th><td>4</td><td>1984-12-31</td><td>Sweden     </td><td> 0</td><td>34</td><td>Netherlands</td><td>Malmö          </td><td>1</td><td>4</td><td>1</td><td>Friendly</td><td>34</td><td>A</td><td>Netherlands</td><td>Sweden     </td></tr>\n",
       "\t<tr><th scope=row>5</th><td>5</td><td>1985-06-02</td><td>France     </td><td>20</td><td> 0</td><td>Netherlands</td><td>Bourg en Bresse</td><td>4</td><td>5</td><td>4</td><td>Friendly</td><td>20</td><td>H</td><td>France     </td><td>Netherlands</td></tr>\n",
       "\t<tr><th scope=row>6</th><td>6</td><td>1985-06-22</td><td>Italy      </td><td> 0</td><td> 0</td><td>France     </td><td>Riccione       </td><td>1</td><td>5</td><td>1</td><td>Friendly</td><td> 0</td><td>D</td><td>Draw       </td><td>Draw       </td></tr>\n",
       "</tbody>\n",
       "</table>\n"
      ],
      "text/latex": [
       "A data.frame: 6 × 15\n",
       "\\begin{tabular}{r|lllllllllllllll}\n",
       "  & test\\_no & date & team\\_1 & score\\_1 & score\\_2 & team\\_2 & venue & home\\_test\\_no & away\\_test\\_no & series\\_no & tournament & margin\\_of\\_victory & home\\_away\\_win & winner & loser\\\\\n",
       "  & <int> & <chr> & <chr> & <int> & <int> & <chr> & <chr> & <int> & <int> & <int> & <chr> & <int> & <chr> & <chr> & <chr>\\\\\n",
       "\\hline\n",
       "\t1 & 1 & 1982-06-13 & Netherlands &  0 &  4 & France      & Utrecht         & 1 & 1 & 1 & Friendly &  4 & A & France      & Netherlands\\\\\n",
       "\t2 & 2 & 1983-06-05 & France      & 10 &  0 & Netherlands & La Teste        & 2 & 2 & 2 & Friendly & 10 & H & France      & Netherlands\\\\\n",
       "\t3 & 3 & 1984-05-27 & Netherlands &  0 &  3 & France      & Hilversum       & 3 & 3 & 3 & Friendly &  3 & A & France      & Netherlands\\\\\n",
       "\t4 & 4 & 1984-12-31 & Sweden      &  0 & 34 & Netherlands & Malmö           & 1 & 4 & 1 & Friendly & 34 & A & Netherlands & Sweden     \\\\\n",
       "\t5 & 5 & 1985-06-02 & France      & 20 &  0 & Netherlands & Bourg en Bresse & 4 & 5 & 4 & Friendly & 20 & H & France      & Netherlands\\\\\n",
       "\t6 & 6 & 1985-06-22 & Italy       &  0 &  0 & France      & Riccione        & 1 & 5 & 1 & Friendly &  0 & D & Draw        & Draw       \\\\\n",
       "\\end{tabular}\n"
      ],
      "text/markdown": [
       "\n",
       "A data.frame: 6 × 15\n",
       "\n",
       "| <!--/--> | test_no &lt;int&gt; | date &lt;chr&gt; | team_1 &lt;chr&gt; | score_1 &lt;int&gt; | score_2 &lt;int&gt; | team_2 &lt;chr&gt; | venue &lt;chr&gt; | home_test_no &lt;int&gt; | away_test_no &lt;int&gt; | series_no &lt;int&gt; | tournament &lt;chr&gt; | margin_of_victory &lt;int&gt; | home_away_win &lt;chr&gt; | winner &lt;chr&gt; | loser &lt;chr&gt; |\n",
       "|---|---|---|---|---|---|---|---|---|---|---|---|---|---|---|---|\n",
       "| 1 | 1 | 1982-06-13 | Netherlands |  0 |  4 | France      | Utrecht         | 1 | 1 | 1 | Friendly |  4 | A | France      | Netherlands |\n",
       "| 2 | 2 | 1983-06-05 | France      | 10 |  0 | Netherlands | La Teste        | 2 | 2 | 2 | Friendly | 10 | H | France      | Netherlands |\n",
       "| 3 | 3 | 1984-05-27 | Netherlands |  0 |  3 | France      | Hilversum       | 3 | 3 | 3 | Friendly |  3 | A | France      | Netherlands |\n",
       "| 4 | 4 | 1984-12-31 | Sweden      |  0 | 34 | Netherlands | Malmö           | 1 | 4 | 1 | Friendly | 34 | A | Netherlands | Sweden      |\n",
       "| 5 | 5 | 1985-06-02 | France      | 20 |  0 | Netherlands | Bourg en Bresse | 4 | 5 | 4 | Friendly | 20 | H | France      | Netherlands |\n",
       "| 6 | 6 | 1985-06-22 | Italy       |  0 |  0 | France      | Riccione        | 1 | 5 | 1 | Friendly |  0 | D | Draw        | Draw        |\n",
       "\n"
      ],
      "text/plain": [
       "  test_no date       team_1      score_1 score_2 team_2      venue          \n",
       "1 1       1982-06-13 Netherlands  0       4      France      Utrecht        \n",
       "2 2       1983-06-05 France      10       0      Netherlands La Teste       \n",
       "3 3       1984-05-27 Netherlands  0       3      France      Hilversum      \n",
       "4 4       1984-12-31 Sweden       0      34      Netherlands Malmö          \n",
       "5 5       1985-06-02 France      20       0      Netherlands Bourg en Bresse\n",
       "6 6       1985-06-22 Italy        0       0      France      Riccione       \n",
       "  home_test_no away_test_no series_no tournament margin_of_victory\n",
       "1 1            1            1         Friendly    4               \n",
       "2 2            2            2         Friendly   10               \n",
       "3 3            3            3         Friendly    3               \n",
       "4 1            4            1         Friendly   34               \n",
       "5 4            5            4         Friendly   20               \n",
       "6 1            5            1         Friendly    0               \n",
       "  home_away_win winner      loser      \n",
       "1 A             France      Netherlands\n",
       "2 H             France      Netherlands\n",
       "3 A             France      Netherlands\n",
       "4 A             Netherlands Sweden     \n",
       "5 H             France      Netherlands\n",
       "6 D             Draw        Draw       "
      ]
     },
     "metadata": {},
     "output_type": "display_data"
    }
   ],
   "source": [
    "fifteens <- read.csv(\"./data/fifteens.csv\")\n",
    "fifteens %>% head"
   ]
  },
  {
   "cell_type": "markdown",
   "metadata": {},
   "source": [
    "I note that the scores for sevens is classed as a `chr` not `int`. Let's fix this"
   ]
  },
  {
   "cell_type": "code",
   "execution_count": 22,
   "metadata": {
    "vscode": {
     "languageId": "r"
    }
   },
   "outputs": [
    {
     "data": {
      "text/html": [
       "<table class=\"dataframe\">\n",
       "<caption>A data.frame: 6 × 16</caption>\n",
       "<thead>\n",
       "\t<tr><th></th><th scope=col>row_id</th><th scope=col>date</th><th scope=col>team_1</th><th scope=col>score_1</th><th scope=col>score_2</th><th scope=col>team_2</th><th scope=col>venue</th><th scope=col>tournament</th><th scope=col>stage</th><th scope=col>t1_game_no</th><th scope=col>t2_game_no</th><th scope=col>series</th><th scope=col>margin</th><th scope=col>winner</th><th scope=col>loser</th><th scope=col>notes</th></tr>\n",
       "\t<tr><th></th><th scope=col>&lt;int&gt;</th><th scope=col>&lt;chr&gt;</th><th scope=col>&lt;chr&gt;</th><th scope=col>&lt;int&gt;</th><th scope=col>&lt;int&gt;</th><th scope=col>&lt;chr&gt;</th><th scope=col>&lt;chr&gt;</th><th scope=col>&lt;chr&gt;</th><th scope=col>&lt;chr&gt;</th><th scope=col>&lt;int&gt;</th><th scope=col>&lt;int&gt;</th><th scope=col>&lt;int&gt;</th><th scope=col>&lt;int&gt;</th><th scope=col>&lt;chr&gt;</th><th scope=col>&lt;chr&gt;</th><th scope=col>&lt;chr&gt;</th></tr>\n",
       "</thead>\n",
       "<tbody>\n",
       "\t<tr><th scope=row>1</th><td>NA</td><td>1997-03-15</td><td>New Zealand Wild Ducks</td><td>54</td><td>0</td><td>Japan      </td><td>Hong Kong</td><td>Hong Kong Sevens</td><td>Pool A</td><td>1</td><td>1</td><td>1</td><td>54</td><td>New Zealand Wild Ducks</td><td>Japan      </td><td>NA</td></tr>\n",
       "\t<tr><th scope=row>2</th><td> 2</td><td>1997-03-15</td><td>England               </td><td>10</td><td>7</td><td>Australia  </td><td>Hong Kong</td><td>Hong Kong Sevens</td><td>Pool A</td><td>1</td><td>1</td><td>1</td><td> 3</td><td>England               </td><td>Australia  </td><td>NA</td></tr>\n",
       "\t<tr><th scope=row>3</th><td> 3</td><td>1997-03-15</td><td>Canada                </td><td>31</td><td>0</td><td>Netherlands</td><td>Hong Kong</td><td>Hong Kong Sevens</td><td>Pool A</td><td>1</td><td>1</td><td>1</td><td>31</td><td>Canada                </td><td>Netherlands</td><td>NA</td></tr>\n",
       "\t<tr><th scope=row>4</th><td> 4</td><td>1997-03-15</td><td>Hong Kong             </td><td>12</td><td>5</td><td>Fiji       </td><td>Hong Kong</td><td>Hong Kong Sevens</td><td>Pool B</td><td>1</td><td>1</td><td>1</td><td> 7</td><td>Hong Kong             </td><td>Fiji       </td><td>NA</td></tr>\n",
       "\t<tr><th scope=row>5</th><td> 5</td><td>1997-03-15</td><td>United States         </td><td>26</td><td>5</td><td>Scotland   </td><td>Hong Kong</td><td>Hong Kong Sevens</td><td>Pool B</td><td>1</td><td>1</td><td>1</td><td>21</td><td>United States         </td><td>Scotland   </td><td>NA</td></tr>\n",
       "\t<tr><th scope=row>6</th><td> 6</td><td>1997-03-15</td><td>Arabian Gulf          </td><td>42</td><td>0</td><td>Singapore  </td><td>Hong Kong</td><td>Hong Kong Sevens</td><td>Pool B</td><td>1</td><td>1</td><td>1</td><td>42</td><td>Arabian Gulf          </td><td>Singapore  </td><td>NA</td></tr>\n",
       "</tbody>\n",
       "</table>\n"
      ],
      "text/latex": [
       "A data.frame: 6 × 16\n",
       "\\begin{tabular}{r|llllllllllllllll}\n",
       "  & row\\_id & date & team\\_1 & score\\_1 & score\\_2 & team\\_2 & venue & tournament & stage & t1\\_game\\_no & t2\\_game\\_no & series & margin & winner & loser & notes\\\\\n",
       "  & <int> & <chr> & <chr> & <int> & <int> & <chr> & <chr> & <chr> & <chr> & <int> & <int> & <int> & <int> & <chr> & <chr> & <chr>\\\\\n",
       "\\hline\n",
       "\t1 & NA & 1997-03-15 & New Zealand Wild Ducks & 54 & 0 & Japan       & Hong Kong & Hong Kong Sevens & Pool A & 1 & 1 & 1 & 54 & New Zealand Wild Ducks & Japan       & NA\\\\\n",
       "\t2 &  2 & 1997-03-15 & England                & 10 & 7 & Australia   & Hong Kong & Hong Kong Sevens & Pool A & 1 & 1 & 1 &  3 & England                & Australia   & NA\\\\\n",
       "\t3 &  3 & 1997-03-15 & Canada                 & 31 & 0 & Netherlands & Hong Kong & Hong Kong Sevens & Pool A & 1 & 1 & 1 & 31 & Canada                 & Netherlands & NA\\\\\n",
       "\t4 &  4 & 1997-03-15 & Hong Kong              & 12 & 5 & Fiji        & Hong Kong & Hong Kong Sevens & Pool B & 1 & 1 & 1 &  7 & Hong Kong              & Fiji        & NA\\\\\n",
       "\t5 &  5 & 1997-03-15 & United States          & 26 & 5 & Scotland    & Hong Kong & Hong Kong Sevens & Pool B & 1 & 1 & 1 & 21 & United States          & Scotland    & NA\\\\\n",
       "\t6 &  6 & 1997-03-15 & Arabian Gulf           & 42 & 0 & Singapore   & Hong Kong & Hong Kong Sevens & Pool B & 1 & 1 & 1 & 42 & Arabian Gulf           & Singapore   & NA\\\\\n",
       "\\end{tabular}\n"
      ],
      "text/markdown": [
       "\n",
       "A data.frame: 6 × 16\n",
       "\n",
       "| <!--/--> | row_id &lt;int&gt; | date &lt;chr&gt; | team_1 &lt;chr&gt; | score_1 &lt;int&gt; | score_2 &lt;int&gt; | team_2 &lt;chr&gt; | venue &lt;chr&gt; | tournament &lt;chr&gt; | stage &lt;chr&gt; | t1_game_no &lt;int&gt; | t2_game_no &lt;int&gt; | series &lt;int&gt; | margin &lt;int&gt; | winner &lt;chr&gt; | loser &lt;chr&gt; | notes &lt;chr&gt; |\n",
       "|---|---|---|---|---|---|---|---|---|---|---|---|---|---|---|---|---|\n",
       "| 1 | NA | 1997-03-15 | New Zealand Wild Ducks | 54 | 0 | Japan       | Hong Kong | Hong Kong Sevens | Pool A | 1 | 1 | 1 | 54 | New Zealand Wild Ducks | Japan       | NA |\n",
       "| 2 |  2 | 1997-03-15 | England                | 10 | 7 | Australia   | Hong Kong | Hong Kong Sevens | Pool A | 1 | 1 | 1 |  3 | England                | Australia   | NA |\n",
       "| 3 |  3 | 1997-03-15 | Canada                 | 31 | 0 | Netherlands | Hong Kong | Hong Kong Sevens | Pool A | 1 | 1 | 1 | 31 | Canada                 | Netherlands | NA |\n",
       "| 4 |  4 | 1997-03-15 | Hong Kong              | 12 | 5 | Fiji        | Hong Kong | Hong Kong Sevens | Pool B | 1 | 1 | 1 |  7 | Hong Kong              | Fiji        | NA |\n",
       "| 5 |  5 | 1997-03-15 | United States          | 26 | 5 | Scotland    | Hong Kong | Hong Kong Sevens | Pool B | 1 | 1 | 1 | 21 | United States          | Scotland    | NA |\n",
       "| 6 |  6 | 1997-03-15 | Arabian Gulf           | 42 | 0 | Singapore   | Hong Kong | Hong Kong Sevens | Pool B | 1 | 1 | 1 | 42 | Arabian Gulf           | Singapore   | NA |\n",
       "\n"
      ],
      "text/plain": [
       "  row_id date       team_1                 score_1 score_2 team_2     \n",
       "1 NA     1997-03-15 New Zealand Wild Ducks 54      0       Japan      \n",
       "2  2     1997-03-15 England                10      7       Australia  \n",
       "3  3     1997-03-15 Canada                 31      0       Netherlands\n",
       "4  4     1997-03-15 Hong Kong              12      5       Fiji       \n",
       "5  5     1997-03-15 United States          26      5       Scotland   \n",
       "6  6     1997-03-15 Arabian Gulf           42      0       Singapore  \n",
       "  venue     tournament       stage  t1_game_no t2_game_no series margin\n",
       "1 Hong Kong Hong Kong Sevens Pool A 1          1          1      54    \n",
       "2 Hong Kong Hong Kong Sevens Pool A 1          1          1       3    \n",
       "3 Hong Kong Hong Kong Sevens Pool A 1          1          1      31    \n",
       "4 Hong Kong Hong Kong Sevens Pool B 1          1          1       7    \n",
       "5 Hong Kong Hong Kong Sevens Pool B 1          1          1      21    \n",
       "6 Hong Kong Hong Kong Sevens Pool B 1          1          1      42    \n",
       "  winner                 loser       notes\n",
       "1 New Zealand Wild Ducks Japan       NA   \n",
       "2 England                Australia   NA   \n",
       "3 Canada                 Netherlands NA   \n",
       "4 Hong Kong              Fiji        NA   \n",
       "5 United States          Scotland    NA   \n",
       "6 Arabian Gulf           Singapore   NA   "
      ]
     },
     "metadata": {},
     "output_type": "display_data"
    }
   ],
   "source": [
    "sevens <- sevens[!is.na(as.numeric(as.character(sevens$score_1))),]\n",
    "sevens <- sevens[!is.na(as.numeric(as.character(sevens$score_2))),]\n",
    "sevens$score_1 <- as.integer(sevens$score_1)\n",
    "sevens$score_2 <- as.integer(sevens$score_2)\n",
    "head(sevens)"
   ]
  },
  {
   "cell_type": "markdown",
   "metadata": {},
   "source": [
    "## Home advantage?\n",
    "\n",
    "Does playing at home have an advantage?"
   ]
  },
  {
   "cell_type": "code",
   "execution_count": 25,
   "metadata": {
    "vscode": {
     "languageId": "r"
    }
   },
   "outputs": [
    {
     "data": {
      "image/png": "[encoded data removed]",
      "text/plain": [
       "plot without title"
      ]
     },
     "metadata": {
      "image/png": {
       "height": 420,
       "width": 420
      }
     },
     "output_type": "display_data"
    }
   ],
   "source": [
    "ggplot(sevens, aes(x=score_1, y=score_2)) + \n",
    "\tgeom_point() + \n",
    "\tlabs(x = \"Home Team Score\", y = \"Away Team Score\") + \n",
    "\tgeom_segment(aes(x=0, y=0, xend=100, yend=100))"
   ]
  },
  {
   "cell_type": "code",
   "execution_count": 26,
   "metadata": {
    "vscode": {
     "languageId": "r"
    }
   },
   "outputs": [
    {
     "data": {
      "text/html": [
       "<table class=\"dataframe\">\n",
       "<caption>A data.frame: 1 × 2</caption>\n",
       "<thead>\n",
       "\t<tr><th scope=col>med_home</th><th scope=col>med_away</th></tr>\n",
       "\t<tr><th scope=col>&lt;int&gt;</th><th scope=col>&lt;int&gt;</th></tr>\n",
       "</thead>\n",
       "<tbody>\n",
       "\t<tr><td>22</td><td>5</td></tr>\n",
       "</tbody>\n",
       "</table>\n"
      ],
      "text/latex": [
       "A data.frame: 1 × 2\n",
       "\\begin{tabular}{ll}\n",
       " med\\_home & med\\_away\\\\\n",
       " <int> & <int>\\\\\n",
       "\\hline\n",
       "\t 22 & 5\\\\\n",
       "\\end{tabular}\n"
      ],
      "text/markdown": [
       "\n",
       "A data.frame: 1 × 2\n",
       "\n",
       "| med_home &lt;int&gt; | med_away &lt;int&gt; |\n",
       "|---|---|\n",
       "| 22 | 5 |\n",
       "\n"
      ],
      "text/plain": [
       "  med_home med_away\n",
       "1 22       5       "
      ]
     },
     "metadata": {},
     "output_type": "display_data"
    }
   ],
   "source": [
    "sevens %>% summarise(med_home = median(score_1), med_away = median(score_2))"
   ]
  },
  {
   "cell_type": "code",
   "execution_count": 44,
   "metadata": {
    "vscode": {
     "languageId": "r"
    }
   },
   "outputs": [
    {
     "data": {
      "image/png": "[encoded data removed]",
      "text/plain": [
       "plot without title"
      ]
     },
     "metadata": {
      "image/png": {
       "height": 420,
       "width": 420
      }
     },
     "output_type": "display_data"
    }
   ],
   "source": [
    "scores = data.frame(home=sevens$score_1, away=sevens$score_2)\n",
    "scores %>% pivot_longer(cols=c(home, away)) -> scoreslong\n",
    "\n",
    "ggplot(scoreslong, aes(x=value, colour=name, fill=name)) + geom_density(alpha=0.6)"
   ]
  },
  {
   "cell_type": "code",
   "execution_count": 41,
   "metadata": {
    "vscode": {
     "languageId": "r"
    }
   },
   "outputs": [
    {
     "data": {
      "text/html": [
       "4.57092696629214"
      ],
      "text/latex": [
       "4.57092696629214"
      ],
      "text/markdown": [
       "4.57092696629214"
      ],
      "text/plain": [
       "[1] 4.570927"
      ]
     },
     "metadata": {},
     "output_type": "display_data"
    }
   ],
   "source": [
    "sevens %>% filter(team_1 == winner) %>% nrow -> n_home_winners\n",
    "sevens %>% filter(team_1 != winner) %>% nrow -> n_away_winners\n",
    "\n",
    "n_home_winners / n_away_winners"
   ]
  },
  {
   "cell_type": "markdown",
   "metadata": {},
   "source": [
    "Seems like there is a definite home advantage in 7s. The probability of a home team winning is $4.571 : 1$\n",
    "\n",
    "Let's repeat the plot for 15s"
   ]
  },
  {
   "cell_type": "code",
   "execution_count": 45,
   "metadata": {
    "vscode": {
     "languageId": "r"
    }
   },
   "outputs": [
    {
     "data": {
      "image/png": "[encoded data removed]",
      "text/plain": [
       "plot without title"
      ]
     },
     "metadata": {
      "image/png": {
       "height": 420,
       "width": 420
      }
     },
     "output_type": "display_data"
    }
   ],
   "source": [
    "scores15 = data.frame(home=fifteens$score_1, away=fifteens$score_2)\n",
    "scores15 %>% pivot_longer(cols=c(home, away)) -> scores15long\n",
    "\n",
    "ggplot(scores15long, aes(x=value, colour=name, fill=name)) + geom_density(alpha=0.6)"
   ]
  },
  {
   "cell_type": "code",
   "execution_count": 43,
   "metadata": {
    "vscode": {
     "languageId": "r"
    }
   },
   "outputs": [
    {
     "data": {
      "text/html": [
       "1.26893353941267"
      ],
      "text/latex": [
       "1.26893353941267"
      ],
      "text/markdown": [
       "1.26893353941267"
      ],
      "text/plain": [
       "[1] 1.268934"
      ]
     },
     "metadata": {},
     "output_type": "display_data"
    }
   ],
   "source": [
    "fifteens %>% filter(team_1 == winner) %>% nrow -> n_home_winners\n",
    "fifteens %>% filter(team_1 != winner) %>% nrow -> n_away_winners\n",
    "\n",
    "n_home_winners / n_away_winners"
   ]
  },
  {
   "cell_type": "markdown",
   "metadata": {},
   "source": [
    "Home advantage is much stronger in 7s than 15s."
   ]
  },
  {
   "cell_type": "markdown",
   "metadata": {},
   "source": [
    "## Which nations are present?"
   ]
  },
  {
   "cell_type": "code",
   "execution_count": 7,
   "metadata": {
    "vscode": {
     "languageId": "r"
    }
   },
   "outputs": [
    {
     "data": {
      "text/html": [
       "152"
      ],
      "text/latex": [
       "152"
      ],
      "text/markdown": [
       "152"
      ],
      "text/plain": [
       "[1] 152"
      ]
     },
     "metadata": {},
     "output_type": "display_data"
    }
   ],
   "source": [
    "teams7 <- c(sevens$team_1, sevens$team_2)\n",
    "teams7 <- unique(teams7)\n",
    "length(teams7)"
   ]
  },
  {
   "cell_type": "code",
   "execution_count": 8,
   "metadata": {
    "vscode": {
     "languageId": "r"
    }
   },
   "outputs": [
    {
     "data": {
      "text/html": [
       "<style>\n",
       ".list-inline {list-style: none; margin:0; padding: 0}\n",
       ".list-inline>li {display: inline-block}\n",
       ".list-inline>li:not(:last-child)::after {content: \"\\00b7\"; padding: 0 .5ex}\n",
       "</style>\n",
       "<ol class=list-inline><li>'New Zealand Wild Ducks'</li><li>'England'</li><li>'Canada'</li><li>'Hong Kong'</li><li>'United States'</li><li>'Arabian Gulf'</li><li>'Scotland'</li><li>'Netherlands'</li><li>'Australia'</li><li>'Fiji'</li><li>'Trinidad &amp; Tobago'</li><li>'Japan'</li><li>'Samoa'</li><li>'Singapore'</li><li>'New Zealand'</li><li>'Thailand'</li><li>'Wales'</li><li>'Kazakhstan'</li><li>'Jamaica'</li><li>'Sweden'</li><li>'China'</li><li>'Aotearoa Maori New Zealand'</li><li>'Sri Lanka'</li><li>'Uzbekistan'</li><li>'Switzerland'</li><li>'Spain'</li><li>'Norway'</li><li>'Belgium'</li><li>'Croatia'</li><li>'France'</li><li>'Portugal'</li><li>'Tunisia'</li><li>'Colombia'</li><li>'Brazil'</li><li>'Uruguay'</li><li>'Venezuela'</li><li>'Argentina'</li><li>'Chile'</li><li>'Paraguay'</li><li>'Rwanda'</li><li>'Taiwan'</li><li>'Italy'</li><li>'Czechia'</li><li>'Bulgaria'</li><li>'Poland'</li><li>'Lithuania'</li><li>'Bosnia-Herzegovina'</li><li>'Hungary'</li><li>'Germany'</li><li>'Austria'</li><li>'Russia'</li><li>'Israel'</li><li>'Guyana'</li><li>'Saint Lucia'</li><li>'Saint Vincent &amp; the Grenadines'</li><li>'Peru'</li><li>'Guam'</li><li>'Luxembourg'</li><li>'Romania'</li><li>'Andorra'</li><li>'Malta'</li><li>'Ireland'</li><li>'Kenya'</li><li>'Uganda'</li><li>'Zimbabwe'</li><li>'Zambia'</li><li>'Barbados'</li><li>'Finland'</li><li>'Denmark'</li><li>'Moldova'</li><li>'Latvia'</li><li>'Cambodia'</li><li>'South Korea'</li><li>'Laos'</li><li>'Papua New Guinea'</li><li>'Serbia'</li><li>'Slovenia'</li><li>'Réunion'</li><li>'South Africa'</li><li>'Madagascar'</li><li>'Mayotte'</li><li>'Niue'</li><li>'Bermuda'</li><li>'Cayman Islands'</li><li>'Iran'</li><li>'Malaysia'</li><li>'Ghana'</li><li>'Nigeria'</li><li>'Georgia'</li><li>'Ukraine'</li><li>'India'</li><li>'Mexico'</li><li>'Burkina Faso'</li><li>'Senegal'</li><li>'Morocco'</li><li>'Cote d\\'Ivorie'</li><li>'Philippines'</li><li>'Tonga'</li><li>'Cook Islands'</li><li>'Cameroon'</li><li>'New Caledonia'</li><li>'Botswana'</li><li>'Indonesia'</li><li>'Guadeloupe'</li><li>'Martinique'</li><li>'Slovakia'</li><li>'United Arab Emirates'</li><li>'Turkey'</li><li>'Curaçao'</li><li>'Costa Rica'</li><li>'Panama'</li><li>'El Salvador'</li><li>'Guatemala'</li><li>'Nicaragua'</li><li>'French Guiana'</li><li>'Bahamas'</li><li>'Namibia'</li><li>'Nepal'</li><li>'Great Britain \\'B\\''</li><li>'Great Britain'</li><li>'Pakistan'</li><li>'Dominican Republic'</li><li>'Lebanon'</li><li>'Qatar'</li><li>'Bolivia'</li><li>'Brunei'</li><li>'Nauru'</li><li>'American Samoa'</li><li>'Solomon Islands'</li><li>'Bangladesh'</li><li>'Benin'</li><li>'Central American Select'</li><li>'Mauritius'</li><li>'Korea'</li><li>'Egypt'</li><li>'Syria'</li><li>'Monaco'</li><li>'Iraq'</li><li>'Algeria'</li><li>'Lesotho'</li><li>'Burundi'</li><li>'DR Congo'</li><li>'Kyrgyzstan'</li><li>'West Indies'</li><li>'Togo'</li><li>'Tahiti'</li><li>'Turks &amp; Caicos Islands'</li><li>'Ecuador'</li><li>'Montenegro'</li><li>'Honduras'</li><li>'Jordan'</li><li>'Vanuatu'</li></ol>\n"
      ],
      "text/latex": [
       "\\begin{enumerate*}\n",
       "\\item 'New Zealand Wild Ducks'\n",
       "\\item 'England'\n",
       "\\item 'Canada'\n",
       "\\item 'Hong Kong'\n",
       "\\item 'United States'\n",
       "\\item 'Arabian Gulf'\n",
       "\\item 'Scotland'\n",
       "\\item 'Netherlands'\n",
       "\\item 'Australia'\n",
       "\\item 'Fiji'\n",
       "\\item 'Trinidad \\& Tobago'\n",
       "\\item 'Japan'\n",
       "\\item 'Samoa'\n",
       "\\item 'Singapore'\n",
       "\\item 'New Zealand'\n",
       "\\item 'Thailand'\n",
       "\\item 'Wales'\n",
       "\\item 'Kazakhstan'\n",
       "\\item 'Jamaica'\n",
       "\\item 'Sweden'\n",
       "\\item 'China'\n",
       "\\item 'Aotearoa Maori New Zealand'\n",
       "\\item 'Sri Lanka'\n",
       "\\item 'Uzbekistan'\n",
       "\\item 'Switzerland'\n",
       "\\item 'Spain'\n",
       "\\item 'Norway'\n",
       "\\item 'Belgium'\n",
       "\\item 'Croatia'\n",
       "\\item 'France'\n",
       "\\item 'Portugal'\n",
       "\\item 'Tunisia'\n",
       "\\item 'Colombia'\n",
       "\\item 'Brazil'\n",
       "\\item 'Uruguay'\n",
       "\\item 'Venezuela'\n",
       "\\item 'Argentina'\n",
       "\\item 'Chile'\n",
       "\\item 'Paraguay'\n",
       "\\item 'Rwanda'\n",
       "\\item 'Taiwan'\n",
       "\\item 'Italy'\n",
       "\\item 'Czechia'\n",
       "\\item 'Bulgaria'\n",
       "\\item 'Poland'\n",
       "\\item 'Lithuania'\n",
       "\\item 'Bosnia-Herzegovina'\n",
       "\\item 'Hungary'\n",
       "\\item 'Germany'\n",
       "\\item 'Austria'\n",
       "\\item 'Russia'\n",
       "\\item 'Israel'\n",
       "\\item 'Guyana'\n",
       "\\item 'Saint Lucia'\n",
       "\\item 'Saint Vincent \\& the Grenadines'\n",
       "\\item 'Peru'\n",
       "\\item 'Guam'\n",
       "\\item 'Luxembourg'\n",
       "\\item 'Romania'\n",
       "\\item 'Andorra'\n",
       "\\item 'Malta'\n",
       "\\item 'Ireland'\n",
       "\\item 'Kenya'\n",
       "\\item 'Uganda'\n",
       "\\item 'Zimbabwe'\n",
       "\\item 'Zambia'\n",
       "\\item 'Barbados'\n",
       "\\item 'Finland'\n",
       "\\item 'Denmark'\n",
       "\\item 'Moldova'\n",
       "\\item 'Latvia'\n",
       "\\item 'Cambodia'\n",
       "\\item 'South Korea'\n",
       "\\item 'Laos'\n",
       "\\item 'Papua New Guinea'\n",
       "\\item 'Serbia'\n",
       "\\item 'Slovenia'\n",
       "\\item 'Réunion'\n",
       "\\item 'South Africa'\n",
       "\\item 'Madagascar'\n",
       "\\item 'Mayotte'\n",
       "\\item 'Niue'\n",
       "\\item 'Bermuda'\n",
       "\\item 'Cayman Islands'\n",
       "\\item 'Iran'\n",
       "\\item 'Malaysia'\n",
       "\\item 'Ghana'\n",
       "\\item 'Nigeria'\n",
       "\\item 'Georgia'\n",
       "\\item 'Ukraine'\n",
       "\\item 'India'\n",
       "\\item 'Mexico'\n",
       "\\item 'Burkina Faso'\n",
       "\\item 'Senegal'\n",
       "\\item 'Morocco'\n",
       "\\item 'Cote d\\textbackslash{}'Ivorie'\n",
       "\\item 'Philippines'\n",
       "\\item 'Tonga'\n",
       "\\item 'Cook Islands'\n",
       "\\item 'Cameroon'\n",
       "\\item 'New Caledonia'\n",
       "\\item 'Botswana'\n",
       "\\item 'Indonesia'\n",
       "\\item 'Guadeloupe'\n",
       "\\item 'Martinique'\n",
       "\\item 'Slovakia'\n",
       "\\item 'United Arab Emirates'\n",
       "\\item 'Turkey'\n",
       "\\item 'Curaçao'\n",
       "\\item 'Costa Rica'\n",
       "\\item 'Panama'\n",
       "\\item 'El Salvador'\n",
       "\\item 'Guatemala'\n",
       "\\item 'Nicaragua'\n",
       "\\item 'French Guiana'\n",
       "\\item 'Bahamas'\n",
       "\\item 'Namibia'\n",
       "\\item 'Nepal'\n",
       "\\item 'Great Britain \\textbackslash{}'B\\textbackslash{}''\n",
       "\\item 'Great Britain'\n",
       "\\item 'Pakistan'\n",
       "\\item 'Dominican Republic'\n",
       "\\item 'Lebanon'\n",
       "\\item 'Qatar'\n",
       "\\item 'Bolivia'\n",
       "\\item 'Brunei'\n",
       "\\item 'Nauru'\n",
       "\\item 'American Samoa'\n",
       "\\item 'Solomon Islands'\n",
       "\\item 'Bangladesh'\n",
       "\\item 'Benin'\n",
       "\\item 'Central American Select'\n",
       "\\item 'Mauritius'\n",
       "\\item 'Korea'\n",
       "\\item 'Egypt'\n",
       "\\item 'Syria'\n",
       "\\item 'Monaco'\n",
       "\\item 'Iraq'\n",
       "\\item 'Algeria'\n",
       "\\item 'Lesotho'\n",
       "\\item 'Burundi'\n",
       "\\item 'DR Congo'\n",
       "\\item 'Kyrgyzstan'\n",
       "\\item 'West Indies'\n",
       "\\item 'Togo'\n",
       "\\item 'Tahiti'\n",
       "\\item 'Turks \\& Caicos Islands'\n",
       "\\item 'Ecuador'\n",
       "\\item 'Montenegro'\n",
       "\\item 'Honduras'\n",
       "\\item 'Jordan'\n",
       "\\item 'Vanuatu'\n",
       "\\end{enumerate*}\n"
      ],
      "text/markdown": [
       "1. 'New Zealand Wild Ducks'\n",
       "2. 'England'\n",
       "3. 'Canada'\n",
       "4. 'Hong Kong'\n",
       "5. 'United States'\n",
       "6. 'Arabian Gulf'\n",
       "7. 'Scotland'\n",
       "8. 'Netherlands'\n",
       "9. 'Australia'\n",
       "10. 'Fiji'\n",
       "11. 'Trinidad &amp; Tobago'\n",
       "12. 'Japan'\n",
       "13. 'Samoa'\n",
       "14. 'Singapore'\n",
       "15. 'New Zealand'\n",
       "16. 'Thailand'\n",
       "17. 'Wales'\n",
       "18. 'Kazakhstan'\n",
       "19. 'Jamaica'\n",
       "20. 'Sweden'\n",
       "21. 'China'\n",
       "22. 'Aotearoa Maori New Zealand'\n",
       "23. 'Sri Lanka'\n",
       "24. 'Uzbekistan'\n",
       "25. 'Switzerland'\n",
       "26. 'Spain'\n",
       "27. 'Norway'\n",
       "28. 'Belgium'\n",
       "29. 'Croatia'\n",
       "30. 'France'\n",
       "31. 'Portugal'\n",
       "32. 'Tunisia'\n",
       "33. 'Colombia'\n",
       "34. 'Brazil'\n",
       "35. 'Uruguay'\n",
       "36. 'Venezuela'\n",
       "37. 'Argentina'\n",
       "38. 'Chile'\n",
       "39. 'Paraguay'\n",
       "40. 'Rwanda'\n",
       "41. 'Taiwan'\n",
       "42. 'Italy'\n",
       "43. 'Czechia'\n",
       "44. 'Bulgaria'\n",
       "45. 'Poland'\n",
       "46. 'Lithuania'\n",
       "47. 'Bosnia-Herzegovina'\n",
       "48. 'Hungary'\n",
       "49. 'Germany'\n",
       "50. 'Austria'\n",
       "51. 'Russia'\n",
       "52. 'Israel'\n",
       "53. 'Guyana'\n",
       "54. 'Saint Lucia'\n",
       "55. 'Saint Vincent &amp; the Grenadines'\n",
       "56. 'Peru'\n",
       "57. 'Guam'\n",
       "58. 'Luxembourg'\n",
       "59. 'Romania'\n",
       "60. 'Andorra'\n",
       "61. 'Malta'\n",
       "62. 'Ireland'\n",
       "63. 'Kenya'\n",
       "64. 'Uganda'\n",
       "65. 'Zimbabwe'\n",
       "66. 'Zambia'\n",
       "67. 'Barbados'\n",
       "68. 'Finland'\n",
       "69. 'Denmark'\n",
       "70. 'Moldova'\n",
       "71. 'Latvia'\n",
       "72. 'Cambodia'\n",
       "73. 'South Korea'\n",
       "74. 'Laos'\n",
       "75. 'Papua New Guinea'\n",
       "76. 'Serbia'\n",
       "77. 'Slovenia'\n",
       "78. 'Réunion'\n",
       "79. 'South Africa'\n",
       "80. 'Madagascar'\n",
       "81. 'Mayotte'\n",
       "82. 'Niue'\n",
       "83. 'Bermuda'\n",
       "84. 'Cayman Islands'\n",
       "85. 'Iran'\n",
       "86. 'Malaysia'\n",
       "87. 'Ghana'\n",
       "88. 'Nigeria'\n",
       "89. 'Georgia'\n",
       "90. 'Ukraine'\n",
       "91. 'India'\n",
       "92. 'Mexico'\n",
       "93. 'Burkina Faso'\n",
       "94. 'Senegal'\n",
       "95. 'Morocco'\n",
       "96. 'Cote d\\'Ivorie'\n",
       "97. 'Philippines'\n",
       "98. 'Tonga'\n",
       "99. 'Cook Islands'\n",
       "100. 'Cameroon'\n",
       "101. 'New Caledonia'\n",
       "102. 'Botswana'\n",
       "103. 'Indonesia'\n",
       "104. 'Guadeloupe'\n",
       "105. 'Martinique'\n",
       "106. 'Slovakia'\n",
       "107. 'United Arab Emirates'\n",
       "108. 'Turkey'\n",
       "109. 'Curaçao'\n",
       "110. 'Costa Rica'\n",
       "111. 'Panama'\n",
       "112. 'El Salvador'\n",
       "113. 'Guatemala'\n",
       "114. 'Nicaragua'\n",
       "115. 'French Guiana'\n",
       "116. 'Bahamas'\n",
       "117. 'Namibia'\n",
       "118. 'Nepal'\n",
       "119. 'Great Britain \\'B\\''\n",
       "120. 'Great Britain'\n",
       "121. 'Pakistan'\n",
       "122. 'Dominican Republic'\n",
       "123. 'Lebanon'\n",
       "124. 'Qatar'\n",
       "125. 'Bolivia'\n",
       "126. 'Brunei'\n",
       "127. 'Nauru'\n",
       "128. 'American Samoa'\n",
       "129. 'Solomon Islands'\n",
       "130. 'Bangladesh'\n",
       "131. 'Benin'\n",
       "132. 'Central American Select'\n",
       "133. 'Mauritius'\n",
       "134. 'Korea'\n",
       "135. 'Egypt'\n",
       "136. 'Syria'\n",
       "137. 'Monaco'\n",
       "138. 'Iraq'\n",
       "139. 'Algeria'\n",
       "140. 'Lesotho'\n",
       "141. 'Burundi'\n",
       "142. 'DR Congo'\n",
       "143. 'Kyrgyzstan'\n",
       "144. 'West Indies'\n",
       "145. 'Togo'\n",
       "146. 'Tahiti'\n",
       "147. 'Turks &amp; Caicos Islands'\n",
       "148. 'Ecuador'\n",
       "149. 'Montenegro'\n",
       "150. 'Honduras'\n",
       "151. 'Jordan'\n",
       "152. 'Vanuatu'\n",
       "\n",
       "\n"
      ],
      "text/plain": [
       "  [1] \"New Zealand Wild Ducks\"         \"England\"                       \n",
       "  [3] \"Canada\"                         \"Hong Kong\"                     \n",
       "  [5] \"United States\"                  \"Arabian Gulf\"                  \n",
       "  [7] \"Scotland\"                       \"Netherlands\"                   \n",
       "  [9] \"Australia\"                      \"Fiji\"                          \n",
       " [11] \"Trinidad & Tobago\"              \"Japan\"                         \n",
       " [13] \"Samoa\"                          \"Singapore\"                     \n",
       " [15] \"New Zealand\"                    \"Thailand\"                      \n",
       " [17] \"Wales\"                          \"Kazakhstan\"                    \n",
       " [19] \"Jamaica\"                        \"Sweden\"                        \n",
       " [21] \"China\"                          \"Aotearoa Maori New Zealand\"    \n",
       " [23] \"Sri Lanka\"                      \"Uzbekistan\"                    \n",
       " [25] \"Switzerland\"                    \"Spain\"                         \n",
       " [27] \"Norway\"                         \"Belgium\"                       \n",
       " [29] \"Croatia\"                        \"France\"                        \n",
       " [31] \"Portugal\"                       \"Tunisia\"                       \n",
       " [33] \"Colombia\"                       \"Brazil\"                        \n",
       " [35] \"Uruguay\"                        \"Venezuela\"                     \n",
       " [37] \"Argentina\"                      \"Chile\"                         \n",
       " [39] \"Paraguay\"                       \"Rwanda\"                        \n",
       " [41] \"Taiwan\"                         \"Italy\"                         \n",
       " [43] \"Czechia\"                        \"Bulgaria\"                      \n",
       " [45] \"Poland\"                         \"Lithuania\"                     \n",
       " [47] \"Bosnia-Herzegovina\"             \"Hungary\"                       \n",
       " [49] \"Germany\"                        \"Austria\"                       \n",
       " [51] \"Russia\"                         \"Israel\"                        \n",
       " [53] \"Guyana\"                         \"Saint Lucia\"                   \n",
       " [55] \"Saint Vincent & the Grenadines\" \"Peru\"                          \n",
       " [57] \"Guam\"                           \"Luxembourg\"                    \n",
       " [59] \"Romania\"                        \"Andorra\"                       \n",
       " [61] \"Malta\"                          \"Ireland\"                       \n",
       " [63] \"Kenya\"                          \"Uganda\"                        \n",
       " [65] \"Zimbabwe\"                       \"Zambia\"                        \n",
       " [67] \"Barbados\"                       \"Finland\"                       \n",
       " [69] \"Denmark\"                        \"Moldova\"                       \n",
       " [71] \"Latvia\"                         \"Cambodia\"                      \n",
       " [73] \"South Korea\"                    \"Laos\"                          \n",
       " [75] \"Papua New Guinea\"               \"Serbia\"                        \n",
       " [77] \"Slovenia\"                       \"Réunion\"                       \n",
       " [79] \"South Africa\"                   \"Madagascar\"                    \n",
       " [81] \"Mayotte\"                        \"Niue\"                          \n",
       " [83] \"Bermuda\"                        \"Cayman Islands\"                \n",
       " [85] \"Iran\"                           \"Malaysia\"                      \n",
       " [87] \"Ghana\"                          \"Nigeria\"                       \n",
       " [89] \"Georgia\"                        \"Ukraine\"                       \n",
       " [91] \"India\"                          \"Mexico\"                        \n",
       " [93] \"Burkina Faso\"                   \"Senegal\"                       \n",
       " [95] \"Morocco\"                        \"Cote d'Ivorie\"                 \n",
       " [97] \"Philippines\"                    \"Tonga\"                         \n",
       " [99] \"Cook Islands\"                   \"Cameroon\"                      \n",
       "[101] \"New Caledonia\"                  \"Botswana\"                      \n",
       "[103] \"Indonesia\"                      \"Guadeloupe\"                    \n",
       "[105] \"Martinique\"                     \"Slovakia\"                      \n",
       "[107] \"United Arab Emirates\"           \"Turkey\"                        \n",
       "[109] \"Curaçao\"                        \"Costa Rica\"                    \n",
       "[111] \"Panama\"                         \"El Salvador\"                   \n",
       "[113] \"Guatemala\"                      \"Nicaragua\"                     \n",
       "[115] \"French Guiana\"                  \"Bahamas\"                       \n",
       "[117] \"Namibia\"                        \"Nepal\"                         \n",
       "[119] \"Great Britain 'B'\"              \"Great Britain\"                 \n",
       "[121] \"Pakistan\"                       \"Dominican Republic\"            \n",
       "[123] \"Lebanon\"                        \"Qatar\"                         \n",
       "[125] \"Bolivia\"                        \"Brunei\"                        \n",
       "[127] \"Nauru\"                          \"American Samoa\"                \n",
       "[129] \"Solomon Islands\"                \"Bangladesh\"                    \n",
       "[131] \"Benin\"                          \"Central American Select\"       \n",
       "[133] \"Mauritius\"                      \"Korea\"                         \n",
       "[135] \"Egypt\"                          \"Syria\"                         \n",
       "[137] \"Monaco\"                         \"Iraq\"                          \n",
       "[139] \"Algeria\"                        \"Lesotho\"                       \n",
       "[141] \"Burundi\"                        \"DR Congo\"                      \n",
       "[143] \"Kyrgyzstan\"                     \"West Indies\"                   \n",
       "[145] \"Togo\"                           \"Tahiti\"                        \n",
       "[147] \"Turks & Caicos Islands\"         \"Ecuador\"                       \n",
       "[149] \"Montenegro\"                     \"Honduras\"                      \n",
       "[151] \"Jordan\"                         \"Vanuatu\"                       "
      ]
     },
     "metadata": {},
     "output_type": "display_data"
    }
   ],
   "source": [
    "teams7"
   ]
  },
  {
   "cell_type": "code",
   "execution_count": 10,
   "metadata": {
    "vscode": {
     "languageId": "r"
    }
   },
   "outputs": [
    {
     "data": {
      "text/html": [
       "73"
      ],
      "text/latex": [
       "73"
      ],
      "text/markdown": [
       "73"
      ],
      "text/plain": [
       "[1] 73"
      ]
     },
     "metadata": {},
     "output_type": "display_data"
    }
   ],
   "source": [
    "teams15 <- c(fifteens$team_1, fifteens$team_2)\n",
    "teams15 <- unique(teams15)\n",
    "length(teams15)"
   ]
  },
  {
   "cell_type": "code",
   "execution_count": 11,
   "metadata": {
    "vscode": {
     "languageId": "r"
    }
   },
   "outputs": [
    {
     "data": {
      "text/html": [
       "<style>\n",
       ".list-inline {list-style: none; margin:0; padding: 0}\n",
       ".list-inline>li {display: inline-block}\n",
       ".list-inline>li:not(:last-child)::after {content: \"\\00b7\"; padding: 0 .5ex}\n",
       "</style>\n",
       "<ol class=list-inline><li>'Netherlands'</li><li>'France'</li><li>'Sweden'</li><li>'Italy'</li><li>'Great Britain'</li><li>'Belgium'</li><li>'Wales'</li><li>'Canada'</li><li>'United States'</li><li>'England'</li><li>'Spain'</li><li>'Germany'</li><li>'New Zealand'</li><li>'Japan'</li><li>'Scotland'</li><li>'Ireland'</li><li>'Kazakhstan'</li><li>'Russia'</li><li>'Australia'</li><li>'Samoa'</li><li>'Hong Kong'</li><li>'Trinidad and Tobago'</li><li>'Denmark'</li><li>'South Africa'</li><li>'Austria'</li><li>'Jamaica'</li><li>'Rwanda'</li><li>'Norway'</li><li>'Bosnia-Herzegovina'</li><li>'Thailand'</li><li>'Uganda'</li><li>'Fiji'</li><li>'Tonga'</li><li>'Kenya'</li><li>'Guyana'</li><li>'China'</li><li>'Romania'</li><li>'Luxembourg'</li><li>'Finland'</li><li>'Zimbabwe'</li><li>'Cayman Islands'</li><li>'Kyrgyzstan'</li><li>'Singapore'</li><li>'Barbados'</li><li>'St Vincent'</li><li>'Bahamas'</li><li>'Malaysia'</li><li>'Caribbean XV'</li><li>'Laos'</li><li>'Philippines'</li><li>'Switzerland'</li><li>'Czechia'</li><li>'Namibia'</li><li>'India'</li><li>'Papua New Guinea'</li><li>'Madagascar'</li><li>'Colombia'</li><li>'Zambia'</li><li>'Guatemala'</li><li>'Burkina Faso'</li><li>'Tunisia'</li><li>'Cote d\\'Ivoire'</li><li>'Portugal'</li><li>'USSR'</li><li>'World XV'</li><li>'Venezuela'</li><li>'Serbia'</li><li>'Brazil'</li><li>'Uzbekistan'</li><li>'Botswana'</li><li>'El Salvador'</li><li>'Cameroon'</li><li>'Senegal'</li></ol>\n"
      ],
      "text/latex": [
       "\\begin{enumerate*}\n",
       "\\item 'Netherlands'\n",
       "\\item 'France'\n",
       "\\item 'Sweden'\n",
       "\\item 'Italy'\n",
       "\\item 'Great Britain'\n",
       "\\item 'Belgium'\n",
       "\\item 'Wales'\n",
       "\\item 'Canada'\n",
       "\\item 'United States'\n",
       "\\item 'England'\n",
       "\\item 'Spain'\n",
       "\\item 'Germany'\n",
       "\\item 'New Zealand'\n",
       "\\item 'Japan'\n",
       "\\item 'Scotland'\n",
       "\\item 'Ireland'\n",
       "\\item 'Kazakhstan'\n",
       "\\item 'Russia'\n",
       "\\item 'Australia'\n",
       "\\item 'Samoa'\n",
       "\\item 'Hong Kong'\n",
       "\\item 'Trinidad and Tobago'\n",
       "\\item 'Denmark'\n",
       "\\item 'South Africa'\n",
       "\\item 'Austria'\n",
       "\\item 'Jamaica'\n",
       "\\item 'Rwanda'\n",
       "\\item 'Norway'\n",
       "\\item 'Bosnia-Herzegovina'\n",
       "\\item 'Thailand'\n",
       "\\item 'Uganda'\n",
       "\\item 'Fiji'\n",
       "\\item 'Tonga'\n",
       "\\item 'Kenya'\n",
       "\\item 'Guyana'\n",
       "\\item 'China'\n",
       "\\item 'Romania'\n",
       "\\item 'Luxembourg'\n",
       "\\item 'Finland'\n",
       "\\item 'Zimbabwe'\n",
       "\\item 'Cayman Islands'\n",
       "\\item 'Kyrgyzstan'\n",
       "\\item 'Singapore'\n",
       "\\item 'Barbados'\n",
       "\\item 'St Vincent'\n",
       "\\item 'Bahamas'\n",
       "\\item 'Malaysia'\n",
       "\\item 'Caribbean XV'\n",
       "\\item 'Laos'\n",
       "\\item 'Philippines'\n",
       "\\item 'Switzerland'\n",
       "\\item 'Czechia'\n",
       "\\item 'Namibia'\n",
       "\\item 'India'\n",
       "\\item 'Papua New Guinea'\n",
       "\\item 'Madagascar'\n",
       "\\item 'Colombia'\n",
       "\\item 'Zambia'\n",
       "\\item 'Guatemala'\n",
       "\\item 'Burkina Faso'\n",
       "\\item 'Tunisia'\n",
       "\\item 'Cote d\\textbackslash{}'Ivoire'\n",
       "\\item 'Portugal'\n",
       "\\item 'USSR'\n",
       "\\item 'World XV'\n",
       "\\item 'Venezuela'\n",
       "\\item 'Serbia'\n",
       "\\item 'Brazil'\n",
       "\\item 'Uzbekistan'\n",
       "\\item 'Botswana'\n",
       "\\item 'El Salvador'\n",
       "\\item 'Cameroon'\n",
       "\\item 'Senegal'\n",
       "\\end{enumerate*}\n"
      ],
      "text/markdown": [
       "1. 'Netherlands'\n",
       "2. 'France'\n",
       "3. 'Sweden'\n",
       "4. 'Italy'\n",
       "5. 'Great Britain'\n",
       "6. 'Belgium'\n",
       "7. 'Wales'\n",
       "8. 'Canada'\n",
       "9. 'United States'\n",
       "10. 'England'\n",
       "11. 'Spain'\n",
       "12. 'Germany'\n",
       "13. 'New Zealand'\n",
       "14. 'Japan'\n",
       "15. 'Scotland'\n",
       "16. 'Ireland'\n",
       "17. 'Kazakhstan'\n",
       "18. 'Russia'\n",
       "19. 'Australia'\n",
       "20. 'Samoa'\n",
       "21. 'Hong Kong'\n",
       "22. 'Trinidad and Tobago'\n",
       "23. 'Denmark'\n",
       "24. 'South Africa'\n",
       "25. 'Austria'\n",
       "26. 'Jamaica'\n",
       "27. 'Rwanda'\n",
       "28. 'Norway'\n",
       "29. 'Bosnia-Herzegovina'\n",
       "30. 'Thailand'\n",
       "31. 'Uganda'\n",
       "32. 'Fiji'\n",
       "33. 'Tonga'\n",
       "34. 'Kenya'\n",
       "35. 'Guyana'\n",
       "36. 'China'\n",
       "37. 'Romania'\n",
       "38. 'Luxembourg'\n",
       "39. 'Finland'\n",
       "40. 'Zimbabwe'\n",
       "41. 'Cayman Islands'\n",
       "42. 'Kyrgyzstan'\n",
       "43. 'Singapore'\n",
       "44. 'Barbados'\n",
       "45. 'St Vincent'\n",
       "46. 'Bahamas'\n",
       "47. 'Malaysia'\n",
       "48. 'Caribbean XV'\n",
       "49. 'Laos'\n",
       "50. 'Philippines'\n",
       "51. 'Switzerland'\n",
       "52. 'Czechia'\n",
       "53. 'Namibia'\n",
       "54. 'India'\n",
       "55. 'Papua New Guinea'\n",
       "56. 'Madagascar'\n",
       "57. 'Colombia'\n",
       "58. 'Zambia'\n",
       "59. 'Guatemala'\n",
       "60. 'Burkina Faso'\n",
       "61. 'Tunisia'\n",
       "62. 'Cote d\\'Ivoire'\n",
       "63. 'Portugal'\n",
       "64. 'USSR'\n",
       "65. 'World XV'\n",
       "66. 'Venezuela'\n",
       "67. 'Serbia'\n",
       "68. 'Brazil'\n",
       "69. 'Uzbekistan'\n",
       "70. 'Botswana'\n",
       "71. 'El Salvador'\n",
       "72. 'Cameroon'\n",
       "73. 'Senegal'\n",
       "\n",
       "\n"
      ],
      "text/plain": [
       " [1] \"Netherlands\"         \"France\"              \"Sweden\"             \n",
       " [4] \"Italy\"               \"Great Britain\"       \"Belgium\"            \n",
       " [7] \"Wales\"               \"Canada\"              \"United States\"      \n",
       "[10] \"England\"             \"Spain\"               \"Germany\"            \n",
       "[13] \"New Zealand\"         \"Japan\"               \"Scotland\"           \n",
       "[16] \"Ireland\"             \"Kazakhstan\"          \"Russia\"             \n",
       "[19] \"Australia\"           \"Samoa\"               \"Hong Kong\"          \n",
       "[22] \"Trinidad and Tobago\" \"Denmark\"             \"South Africa\"       \n",
       "[25] \"Austria\"             \"Jamaica\"             \"Rwanda\"             \n",
       "[28] \"Norway\"              \"Bosnia-Herzegovina\"  \"Thailand\"           \n",
       "[31] \"Uganda\"              \"Fiji\"                \"Tonga\"              \n",
       "[34] \"Kenya\"               \"Guyana\"              \"China\"              \n",
       "[37] \"Romania\"             \"Luxembourg\"          \"Finland\"            \n",
       "[40] \"Zimbabwe\"            \"Cayman Islands\"      \"Kyrgyzstan\"         \n",
       "[43] \"Singapore\"           \"Barbados\"            \"St Vincent\"         \n",
       "[46] \"Bahamas\"             \"Malaysia\"            \"Caribbean XV\"       \n",
       "[49] \"Laos\"                \"Philippines\"         \"Switzerland\"        \n",
       "[52] \"Czechia\"             \"Namibia\"             \"India\"              \n",
       "[55] \"Papua New Guinea\"    \"Madagascar\"          \"Colombia\"           \n",
       "[58] \"Zambia\"              \"Guatemala\"           \"Burkina Faso\"       \n",
       "[61] \"Tunisia\"             \"Cote d'Ivoire\"       \"Portugal\"           \n",
       "[64] \"USSR\"                \"World XV\"            \"Venezuela\"          \n",
       "[67] \"Serbia\"              \"Brazil\"              \"Uzbekistan\"         \n",
       "[70] \"Botswana\"            \"El Salvador\"         \"Cameroon\"           \n",
       "[73] \"Senegal\"            "
      ]
     },
     "metadata": {},
     "output_type": "display_data"
    }
   ],
   "source": [
    "teams15"
   ]
  },
  {
   "cell_type": "markdown",
   "metadata": {},
   "source": [
    "## Teams overlap\n",
    "\n",
    "Let's see which teams are present in both datasets. We could then consider the difference in team results between 7s and 15s. Do teams with a good 15s squad tend to have a strong 7s squad too?\n",
    "\n",
    "No inbuilt intersection function in R, so make one."
   ]
  },
  {
   "cell_type": "code",
   "execution_count": 16,
   "metadata": {
    "vscode": {
     "languageId": "r"
    }
   },
   "outputs": [],
   "source": [
    "intersection <- function(a, b) {\n",
    "  intersect <- vector()\n",
    "\n",
    "  for (i in 1:length(a)) {\n",
    "    if (a[i] %in% b) {\n",
    "      intersect <- append(intersect, a[i])\n",
    "    }\n",
    "  }\n",
    "  return(intersect)\n",
    "}"
   ]
  },
  {
   "cell_type": "code",
   "execution_count": 18,
   "metadata": {
    "vscode": {
     "languageId": "r"
    }
   },
   "outputs": [
    {
     "data": {
      "text/html": [
       "67"
      ],
      "text/latex": [
       "67"
      ],
      "text/markdown": [
       "67"
      ],
      "text/plain": [
       "[1] 67"
      ]
     },
     "metadata": {},
     "output_type": "display_data"
    }
   ],
   "source": [
    "teams = intersection(teams7, teams15) \n",
    "length(teams)"
   ]
  },
  {
   "cell_type": "markdown",
   "metadata": {},
   "source": [
    "We have a lot more 7s data than 15s."
   ]
  },
  {
   "cell_type": "code",
   "execution_count": 12,
   "metadata": {
    "vscode": {
     "languageId": "r"
    }
   },
   "outputs": [
    {
     "data": {
      "text/html": [
       "<style>\n",
       ".list-inline {list-style: none; margin:0; padding: 0}\n",
       ".list-inline>li {display: inline-block}\n",
       ".list-inline>li:not(:last-child)::after {content: \"\\00b7\"; padding: 0 .5ex}\n",
       "</style>\n",
       "<ol class=list-inline><li>7966</li><li>1468</li></ol>\n"
      ],
      "text/latex": [
       "\\begin{enumerate*}\n",
       "\\item 7966\n",
       "\\item 1468\n",
       "\\end{enumerate*}\n"
      ],
      "text/markdown": [
       "1. 7966\n",
       "2. 1468\n",
       "\n",
       "\n"
      ],
      "text/plain": [
       "[1] 7966 1468"
      ]
     },
     "metadata": {},
     "output_type": "display_data"
    }
   ],
   "source": [
    "c(nrow(sevens), nrow(fifteens))"
   ]
  },
  {
   "cell_type": "markdown",
   "metadata": {},
   "source": [
    "Can we filter the data to consider only matches between teams who are present in both datasets - then we can compare results?"
   ]
  },
  {
   "cell_type": "code",
   "execution_count": 66,
   "metadata": {
    "vscode": {
     "languageId": "r"
    }
   },
   "outputs": [],
   "source": [
    "sevens_matched_teams <- sevens %>% filter(team_1 %in% teams & team_2 %in% teams)\n",
    "fifteens_matched_teams <- fifteens %>% filter(team_1 %in% teams & team_2 %in% teams)"
   ]
  },
  {
   "cell_type": "markdown",
   "metadata": {},
   "source": [
    "Let's create results dataframe. The below is not an optimal approach, but it works!"
   ]
  },
  {
   "cell_type": "code",
   "execution_count": 70,
   "metadata": {
    "vscode": {
     "languageId": "r"
    }
   },
   "outputs": [
    {
     "data": {
      "text/html": [
       "<table class=\"dataframe\">\n",
       "<caption>A data.frame: 67 × 11</caption>\n",
       "<thead>\n",
       "\t<tr><th scope=col>team</th><th scope=col>matches_7s</th><th scope=col>home_matches_7s</th><th scope=col>home_mins_7s</th><th scope=col>away_wins_7s</th><th scope=col>wins_7s</th><th scope=col>matches_15s</th><th scope=col>home_matches_15s</th><th scope=col>home_mins_15s</th><th scope=col>away_wins_15s</th><th scope=col>wins_15s</th></tr>\n",
       "\t<tr><th scope=col>&lt;int&gt;</th><th scope=col>&lt;int&gt;</th><th scope=col>&lt;int&gt;</th><th scope=col>&lt;int&gt;</th><th scope=col>&lt;int&gt;</th><th scope=col>&lt;int&gt;</th><th scope=col>&lt;int&gt;</th><th scope=col>&lt;int&gt;</th><th scope=col>&lt;int&gt;</th><th scope=col>&lt;int&gt;</th><th scope=col>&lt;int&gt;</th></tr>\n",
       "</thead>\n",
       "<tbody>\n",
       "\t<tr><td> 1</td><td>456</td><td>277</td><td>243</td><td>37</td><td>280</td><td>296</td><td>172</td><td>151</td><td>98</td><td>249</td></tr>\n",
       "\t<tr><td> 2</td><td>408</td><td>268</td><td>231</td><td>43</td><td>274</td><td>140</td><td> 78</td><td> 37</td><td>26</td><td> 63</td></tr>\n",
       "\t<tr><td> 3</td><td>257</td><td>141</td><td> 95</td><td> 9</td><td>104</td><td> 51</td><td> 21</td><td>  8</td><td>10</td><td> 18</td></tr>\n",
       "\t<tr><td> 4</td><td>424</td><td>262</td><td>223</td><td>37</td><td>260</td><td>124</td><td> 44</td><td> 20</td><td>37</td><td> 57</td></tr>\n",
       "\t<tr><td> 5</td><td>100</td><td> 43</td><td> 34</td><td>11</td><td> 45</td><td>214</td><td> 99</td><td> 41</td><td>43</td><td> 84</td></tr>\n",
       "\t<tr><td> 6</td><td>267</td><td>143</td><td>124</td><td>16</td><td>140</td><td>125</td><td> 67</td><td> 39</td><td>22</td><td> 61</td></tr>\n",
       "\t<tr><td> 7</td><td>449</td><td>338</td><td>305</td><td>45</td><td>350</td><td> 56</td><td> 38</td><td> 17</td><td> 3</td><td> 20</td></tr>\n",
       "\t<tr><td> 8</td><td>321</td><td>157</td><td>131</td><td>29</td><td>160</td><td> 14</td><td> 10</td><td>  6</td><td> 1</td><td>  7</td></tr>\n",
       "\t<tr><td> 9</td><td>393</td><td>196</td><td>171</td><td>22</td><td>193</td><td> 58</td><td> 22</td><td> 15</td><td>13</td><td> 28</td></tr>\n",
       "\t<tr><td>10</td><td>102</td><td> 37</td><td> 31</td><td> 2</td><td> 33</td><td> 32</td><td> 10</td><td>  6</td><td>10</td><td> 16</td></tr>\n",
       "\t<tr><td>11</td><td>207</td><td> 61</td><td> 44</td><td> 6</td><td> 50</td><td> 29</td><td> 14</td><td>  4</td><td> 3</td><td>  7</td></tr>\n",
       "\t<tr><td>12</td><td>363</td><td>288</td><td>279</td><td>38</td><td>317</td><td>103</td><td> 51</td><td> 47</td><td>39</td><td> 86</td></tr>\n",
       "\t<tr><td>13</td><td>212</td><td> 80</td><td> 74</td><td>23</td><td> 97</td><td>  9</td><td>  4</td><td>  3</td><td> 2</td><td>  5</td></tr>\n",
       "\t<tr><td>14</td><td>125</td><td> 48</td><td> 38</td><td>10</td><td> 48</td><td>215</td><td> 96</td><td> 39</td><td>39</td><td> 78</td></tr>\n",
       "\t<tr><td>15</td><td>225</td><td>125</td><td>114</td><td>19</td><td>133</td><td> 69</td><td> 25</td><td> 15</td><td>21</td><td> 36</td></tr>\n",
       "\t<tr><td>16</td><td> 45</td><td> 23</td><td> 21</td><td> 3</td><td> 24</td><td>  6</td><td>  3</td><td>  2</td><td> 2</td><td>  4</td></tr>\n",
       "\t<tr><td>17</td><td>137</td><td> 55</td><td> 41</td><td>15</td><td> 56</td><td> 84</td><td> 22</td><td> 10</td><td>20</td><td> 30</td></tr>\n",
       "\t<tr><td>18</td><td>391</td><td>214</td><td>183</td><td>25</td><td>208</td><td> 13</td><td> 10</td><td>  6</td><td> 3</td><td>  9</td></tr>\n",
       "\t<tr><td>19</td><td> 51</td><td>  9</td><td>  7</td><td> 5</td><td> 12</td><td>  4</td><td>  0</td><td>  0</td><td> 2</td><td>  2</td></tr>\n",
       "\t<tr><td>20</td><td> 76</td><td> 22</td><td> 19</td><td>12</td><td> 31</td><td> 22</td><td> 10</td><td>  4</td><td> 6</td><td> 10</td></tr>\n",
       "\t<tr><td>21</td><td>472</td><td>220</td><td>174</td><td>39</td><td>213</td><td>146</td><td> 77</td><td> 49</td><td>30</td><td> 79</td></tr>\n",
       "\t<tr><td>22</td><td> 72</td><td> 25</td><td> 14</td><td> 5</td><td> 19</td><td> 17</td><td>  7</td><td>  1</td><td> 3</td><td>  4</td></tr>\n",
       "\t<tr><td>23</td><td>155</td><td> 71</td><td> 52</td><td>17</td><td> 69</td><td> 38</td><td> 29</td><td>  8</td><td> 2</td><td> 10</td></tr>\n",
       "\t<tr><td>24</td><td>507</td><td>307</td><td>263</td><td>49</td><td>312</td><td>256</td><td>139</td><td>107</td><td>69</td><td>176</td></tr>\n",
       "\t<tr><td>25</td><td>162</td><td> 56</td><td> 42</td><td> 8</td><td> 50</td><td>  3</td><td>  2</td><td>  2</td><td> 0</td><td>  2</td></tr>\n",
       "\t<tr><td>26</td><td> 94</td><td> 47</td><td> 33</td><td> 7</td><td> 40</td><td>  1</td><td>  1</td><td>  1</td><td> 0</td><td>  1</td></tr>\n",
       "\t<tr><td>27</td><td> 72</td><td> 27</td><td> 23</td><td> 1</td><td> 24</td><td>  5</td><td>  4</td><td>  3</td><td> 1</td><td>  4</td></tr>\n",
       "\t<tr><td>28</td><td>284</td><td>110</td><td> 79</td><td>15</td><td> 94</td><td>  3</td><td>  0</td><td>  0</td><td> 0</td><td>  0</td></tr>\n",
       "\t<tr><td>29</td><td> 47</td><td> 12</td><td> 11</td><td> 3</td><td> 14</td><td>  0</td><td>  0</td><td>  0</td><td> 0</td><td>  0</td></tr>\n",
       "\t<tr><td>30</td><td> 10</td><td>  1</td><td>  0</td><td> 1</td><td>  1</td><td>  2</td><td>  1</td><td>  0</td><td> 0</td><td>  0</td></tr>\n",
       "\t<tr><td>⋮</td><td>⋮</td><td>⋮</td><td>⋮</td><td>⋮</td><td>⋮</td><td>⋮</td><td>⋮</td><td>⋮</td><td>⋮</td><td>⋮</td></tr>\n",
       "\t<tr><td>38</td><td> 24</td><td> 10</td><td>  6</td><td> 0</td><td>  6</td><td>  5</td><td>  2</td><td> 1</td><td> 0</td><td> 1</td></tr>\n",
       "\t<tr><td>39</td><td> 83</td><td> 40</td><td> 25</td><td> 9</td><td> 34</td><td>  9</td><td>  3</td><td> 1</td><td> 3</td><td> 4</td></tr>\n",
       "\t<tr><td>40</td><td>362</td><td>155</td><td>125</td><td>34</td><td>159</td><td>187</td><td>107</td><td>49</td><td>27</td><td>76</td></tr>\n",
       "\t<tr><td>41</td><td>132</td><td> 63</td><td> 51</td><td>10</td><td> 61</td><td> 30</td><td> 16</td><td>11</td><td> 3</td><td>14</td></tr>\n",
       "\t<tr><td>42</td><td> 78</td><td> 40</td><td> 36</td><td> 4</td><td> 40</td><td> 30</td><td> 14</td><td>10</td><td> 2</td><td>12</td></tr>\n",
       "\t<tr><td>43</td><td> 66</td><td> 27</td><td> 21</td><td> 1</td><td> 22</td><td>  6</td><td>  3</td><td> 1</td><td> 0</td><td> 1</td></tr>\n",
       "\t<tr><td>44</td><td> 34</td><td>  9</td><td>  7</td><td> 2</td><td>  9</td><td>  4</td><td>  1</td><td> 1</td><td> 3</td><td> 4</td></tr>\n",
       "\t<tr><td>45</td><td> 16</td><td>  4</td><td>  1</td><td> 0</td><td>  1</td><td>  1</td><td>  1</td><td> 0</td><td> 0</td><td> 0</td></tr>\n",
       "\t<tr><td>46</td><td> 90</td><td> 32</td><td> 26</td><td> 7</td><td> 33</td><td> 23</td><td> 13</td><td> 1</td><td> 1</td><td> 2</td></tr>\n",
       "\t<tr><td>47</td><td> 45</td><td> 22</td><td> 18</td><td> 1</td><td> 19</td><td>  5</td><td>  4</td><td> 0</td><td> 0</td><td> 0</td></tr>\n",
       "\t<tr><td>48</td><td> 46</td><td> 10</td><td>  4</td><td> 0</td><td>  4</td><td>  5</td><td>  4</td><td> 0</td><td> 0</td><td> 0</td></tr>\n",
       "\t<tr><td>49</td><td>122</td><td> 39</td><td> 29</td><td> 4</td><td> 33</td><td>  6</td><td>  3</td><td> 0</td><td> 0</td><td> 0</td></tr>\n",
       "\t<tr><td>50</td><td> 17</td><td>  6</td><td>  4</td><td> 2</td><td>  6</td><td>  4</td><td>  0</td><td> 0</td><td> 0</td><td> 0</td></tr>\n",
       "\t<tr><td>51</td><td>180</td><td> 80</td><td> 74</td><td>13</td><td> 87</td><td> 52</td><td> 18</td><td>10</td><td> 7</td><td>17</td></tr>\n",
       "\t<tr><td>52</td><td> 57</td><td> 22</td><td> 20</td><td> 6</td><td> 26</td><td>  5</td><td>  1</td><td> 0</td><td> 2</td><td> 2</td></tr>\n",
       "\t<tr><td>53</td><td> 29</td><td>  7</td><td>  7</td><td> 0</td><td>  7</td><td>  7</td><td>  2</td><td> 0</td><td> 2</td><td> 2</td></tr>\n",
       "\t<tr><td>54</td><td> 81</td><td> 33</td><td> 16</td><td> 3</td><td> 19</td><td>  2</td><td>  1</td><td> 0</td><td> 0</td><td> 0</td></tr>\n",
       "\t<tr><td>55</td><td> 47</td><td> 22</td><td>  7</td><td> 2</td><td>  9</td><td>  4</td><td>  1</td><td> 0</td><td> 1</td><td> 1</td></tr>\n",
       "\t<tr><td>56</td><td>  4</td><td>  2</td><td>  0</td><td> 0</td><td>  0</td><td>  2</td><td>  2</td><td> 0</td><td> 0</td><td> 0</td></tr>\n",
       "\t<tr><td>57</td><td> 43</td><td> 10</td><td>  8</td><td> 2</td><td> 10</td><td>  1</td><td>  0</td><td> 0</td><td> 0</td><td> 0</td></tr>\n",
       "\t<tr><td>58</td><td> 66</td><td> 17</td><td> 16</td><td> 4</td><td> 20</td><td>  9</td><td>  4</td><td> 2</td><td> 2</td><td> 4</td></tr>\n",
       "\t<tr><td>59</td><td> 35</td><td>  1</td><td>  1</td><td> 2</td><td>  3</td><td>  7</td><td>  2</td><td> 0</td><td> 2</td><td> 2</td></tr>\n",
       "\t<tr><td>60</td><td>  2</td><td>  0</td><td>  0</td><td> 0</td><td>  0</td><td>  2</td><td>  0</td><td> 0</td><td> 2</td><td> 2</td></tr>\n",
       "\t<tr><td>61</td><td> 23</td><td> 11</td><td>  3</td><td> 0</td><td>  3</td><td>  2</td><td>  0</td><td> 0</td><td> 0</td><td> 0</td></tr>\n",
       "\t<tr><td>62</td><td>  8</td><td>  1</td><td>  1</td><td> 0</td><td>  1</td><td>  1</td><td>  0</td><td> 0</td><td> 0</td><td> 0</td></tr>\n",
       "\t<tr><td>63</td><td> 15</td><td>  5</td><td>  5</td><td> 0</td><td>  5</td><td>  1</td><td>  1</td><td> 1</td><td> 0</td><td> 1</td></tr>\n",
       "\t<tr><td>64</td><td> 16</td><td>  3</td><td>  3</td><td> 0</td><td>  3</td><td>  1</td><td>  1</td><td> 0</td><td> 0</td><td> 0</td></tr>\n",
       "\t<tr><td>65</td><td> 17</td><td>  1</td><td>  1</td><td> 1</td><td>  2</td><td>  2</td><td>  2</td><td> 1</td><td> 0</td><td> 1</td></tr>\n",
       "\t<tr><td>66</td><td> 50</td><td> 27</td><td> 20</td><td> 6</td><td> 26</td><td>  8</td><td>  6</td><td> 5</td><td> 0</td><td> 5</td></tr>\n",
       "\t<tr><td>67</td><td> 10</td><td>  0</td><td>  0</td><td> 1</td><td>  1</td><td>  2</td><td>  1</td><td> 0</td><td> 0</td><td> 0</td></tr>\n",
       "</tbody>\n",
       "</table>\n"
      ],
      "text/latex": [
       "A data.frame: 67 × 11\n",
       "\\begin{tabular}{lllllllllll}\n",
       " team & matches\\_7s & home\\_matches\\_7s & home\\_mins\\_7s & away\\_wins\\_7s & wins\\_7s & matches\\_15s & home\\_matches\\_15s & home\\_mins\\_15s & away\\_wins\\_15s & wins\\_15s\\\\\n",
       " <int> & <int> & <int> & <int> & <int> & <int> & <int> & <int> & <int> & <int> & <int>\\\\\n",
       "\\hline\n",
       "\t  1 & 456 & 277 & 243 & 37 & 280 & 296 & 172 & 151 & 98 & 249\\\\\n",
       "\t  2 & 408 & 268 & 231 & 43 & 274 & 140 &  78 &  37 & 26 &  63\\\\\n",
       "\t  3 & 257 & 141 &  95 &  9 & 104 &  51 &  21 &   8 & 10 &  18\\\\\n",
       "\t  4 & 424 & 262 & 223 & 37 & 260 & 124 &  44 &  20 & 37 &  57\\\\\n",
       "\t  5 & 100 &  43 &  34 & 11 &  45 & 214 &  99 &  41 & 43 &  84\\\\\n",
       "\t  6 & 267 & 143 & 124 & 16 & 140 & 125 &  67 &  39 & 22 &  61\\\\\n",
       "\t  7 & 449 & 338 & 305 & 45 & 350 &  56 &  38 &  17 &  3 &  20\\\\\n",
       "\t  8 & 321 & 157 & 131 & 29 & 160 &  14 &  10 &   6 &  1 &   7\\\\\n",
       "\t  9 & 393 & 196 & 171 & 22 & 193 &  58 &  22 &  15 & 13 &  28\\\\\n",
       "\t 10 & 102 &  37 &  31 &  2 &  33 &  32 &  10 &   6 & 10 &  16\\\\\n",
       "\t 11 & 207 &  61 &  44 &  6 &  50 &  29 &  14 &   4 &  3 &   7\\\\\n",
       "\t 12 & 363 & 288 & 279 & 38 & 317 & 103 &  51 &  47 & 39 &  86\\\\\n",
       "\t 13 & 212 &  80 &  74 & 23 &  97 &   9 &   4 &   3 &  2 &   5\\\\\n",
       "\t 14 & 125 &  48 &  38 & 10 &  48 & 215 &  96 &  39 & 39 &  78\\\\\n",
       "\t 15 & 225 & 125 & 114 & 19 & 133 &  69 &  25 &  15 & 21 &  36\\\\\n",
       "\t 16 &  45 &  23 &  21 &  3 &  24 &   6 &   3 &   2 &  2 &   4\\\\\n",
       "\t 17 & 137 &  55 &  41 & 15 &  56 &  84 &  22 &  10 & 20 &  30\\\\\n",
       "\t 18 & 391 & 214 & 183 & 25 & 208 &  13 &  10 &   6 &  3 &   9\\\\\n",
       "\t 19 &  51 &   9 &   7 &  5 &  12 &   4 &   0 &   0 &  2 &   2\\\\\n",
       "\t 20 &  76 &  22 &  19 & 12 &  31 &  22 &  10 &   4 &  6 &  10\\\\\n",
       "\t 21 & 472 & 220 & 174 & 39 & 213 & 146 &  77 &  49 & 30 &  79\\\\\n",
       "\t 22 &  72 &  25 &  14 &  5 &  19 &  17 &   7 &   1 &  3 &   4\\\\\n",
       "\t 23 & 155 &  71 &  52 & 17 &  69 &  38 &  29 &   8 &  2 &  10\\\\\n",
       "\t 24 & 507 & 307 & 263 & 49 & 312 & 256 & 139 & 107 & 69 & 176\\\\\n",
       "\t 25 & 162 &  56 &  42 &  8 &  50 &   3 &   2 &   2 &  0 &   2\\\\\n",
       "\t 26 &  94 &  47 &  33 &  7 &  40 &   1 &   1 &   1 &  0 &   1\\\\\n",
       "\t 27 &  72 &  27 &  23 &  1 &  24 &   5 &   4 &   3 &  1 &   4\\\\\n",
       "\t 28 & 284 & 110 &  79 & 15 &  94 &   3 &   0 &   0 &  0 &   0\\\\\n",
       "\t 29 &  47 &  12 &  11 &  3 &  14 &   0 &   0 &   0 &  0 &   0\\\\\n",
       "\t 30 &  10 &   1 &   0 &  1 &   1 &   2 &   1 &   0 &  0 &   0\\\\\n",
       "\t ⋮ & ⋮ & ⋮ & ⋮ & ⋮ & ⋮ & ⋮ & ⋮ & ⋮ & ⋮ & ⋮\\\\\n",
       "\t 38 &  24 &  10 &   6 &  0 &   6 &   5 &   2 &  1 &  0 &  1\\\\\n",
       "\t 39 &  83 &  40 &  25 &  9 &  34 &   9 &   3 &  1 &  3 &  4\\\\\n",
       "\t 40 & 362 & 155 & 125 & 34 & 159 & 187 & 107 & 49 & 27 & 76\\\\\n",
       "\t 41 & 132 &  63 &  51 & 10 &  61 &  30 &  16 & 11 &  3 & 14\\\\\n",
       "\t 42 &  78 &  40 &  36 &  4 &  40 &  30 &  14 & 10 &  2 & 12\\\\\n",
       "\t 43 &  66 &  27 &  21 &  1 &  22 &   6 &   3 &  1 &  0 &  1\\\\\n",
       "\t 44 &  34 &   9 &   7 &  2 &   9 &   4 &   1 &  1 &  3 &  4\\\\\n",
       "\t 45 &  16 &   4 &   1 &  0 &   1 &   1 &   1 &  0 &  0 &  0\\\\\n",
       "\t 46 &  90 &  32 &  26 &  7 &  33 &  23 &  13 &  1 &  1 &  2\\\\\n",
       "\t 47 &  45 &  22 &  18 &  1 &  19 &   5 &   4 &  0 &  0 &  0\\\\\n",
       "\t 48 &  46 &  10 &   4 &  0 &   4 &   5 &   4 &  0 &  0 &  0\\\\\n",
       "\t 49 & 122 &  39 &  29 &  4 &  33 &   6 &   3 &  0 &  0 &  0\\\\\n",
       "\t 50 &  17 &   6 &   4 &  2 &   6 &   4 &   0 &  0 &  0 &  0\\\\\n",
       "\t 51 & 180 &  80 &  74 & 13 &  87 &  52 &  18 & 10 &  7 & 17\\\\\n",
       "\t 52 &  57 &  22 &  20 &  6 &  26 &   5 &   1 &  0 &  2 &  2\\\\\n",
       "\t 53 &  29 &   7 &   7 &  0 &   7 &   7 &   2 &  0 &  2 &  2\\\\\n",
       "\t 54 &  81 &  33 &  16 &  3 &  19 &   2 &   1 &  0 &  0 &  0\\\\\n",
       "\t 55 &  47 &  22 &   7 &  2 &   9 &   4 &   1 &  0 &  1 &  1\\\\\n",
       "\t 56 &   4 &   2 &   0 &  0 &   0 &   2 &   2 &  0 &  0 &  0\\\\\n",
       "\t 57 &  43 &  10 &   8 &  2 &  10 &   1 &   0 &  0 &  0 &  0\\\\\n",
       "\t 58 &  66 &  17 &  16 &  4 &  20 &   9 &   4 &  2 &  2 &  4\\\\\n",
       "\t 59 &  35 &   1 &   1 &  2 &   3 &   7 &   2 &  0 &  2 &  2\\\\\n",
       "\t 60 &   2 &   0 &   0 &  0 &   0 &   2 &   0 &  0 &  2 &  2\\\\\n",
       "\t 61 &  23 &  11 &   3 &  0 &   3 &   2 &   0 &  0 &  0 &  0\\\\\n",
       "\t 62 &   8 &   1 &   1 &  0 &   1 &   1 &   0 &  0 &  0 &  0\\\\\n",
       "\t 63 &  15 &   5 &   5 &  0 &   5 &   1 &   1 &  1 &  0 &  1\\\\\n",
       "\t 64 &  16 &   3 &   3 &  0 &   3 &   1 &   1 &  0 &  0 &  0\\\\\n",
       "\t 65 &  17 &   1 &   1 &  1 &   2 &   2 &   2 &  1 &  0 &  1\\\\\n",
       "\t 66 &  50 &  27 &  20 &  6 &  26 &   8 &   6 &  5 &  0 &  5\\\\\n",
       "\t 67 &  10 &   0 &   0 &  1 &   1 &   2 &   1 &  0 &  0 &  0\\\\\n",
       "\\end{tabular}\n"
      ],
      "text/markdown": [
       "\n",
       "A data.frame: 67 × 11\n",
       "\n",
       "| team &lt;int&gt; | matches_7s &lt;int&gt; | home_matches_7s &lt;int&gt; | home_mins_7s &lt;int&gt; | away_wins_7s &lt;int&gt; | wins_7s &lt;int&gt; | matches_15s &lt;int&gt; | home_matches_15s &lt;int&gt; | home_mins_15s &lt;int&gt; | away_wins_15s &lt;int&gt; | wins_15s &lt;int&gt; |\n",
       "|---|---|---|---|---|---|---|---|---|---|---|\n",
       "|  1 | 456 | 277 | 243 | 37 | 280 | 296 | 172 | 151 | 98 | 249 |\n",
       "|  2 | 408 | 268 | 231 | 43 | 274 | 140 |  78 |  37 | 26 |  63 |\n",
       "|  3 | 257 | 141 |  95 |  9 | 104 |  51 |  21 |   8 | 10 |  18 |\n",
       "|  4 | 424 | 262 | 223 | 37 | 260 | 124 |  44 |  20 | 37 |  57 |\n",
       "|  5 | 100 |  43 |  34 | 11 |  45 | 214 |  99 |  41 | 43 |  84 |\n",
       "|  6 | 267 | 143 | 124 | 16 | 140 | 125 |  67 |  39 | 22 |  61 |\n",
       "|  7 | 449 | 338 | 305 | 45 | 350 |  56 |  38 |  17 |  3 |  20 |\n",
       "|  8 | 321 | 157 | 131 | 29 | 160 |  14 |  10 |   6 |  1 |   7 |\n",
       "|  9 | 393 | 196 | 171 | 22 | 193 |  58 |  22 |  15 | 13 |  28 |\n",
       "| 10 | 102 |  37 |  31 |  2 |  33 |  32 |  10 |   6 | 10 |  16 |\n",
       "| 11 | 207 |  61 |  44 |  6 |  50 |  29 |  14 |   4 |  3 |   7 |\n",
       "| 12 | 363 | 288 | 279 | 38 | 317 | 103 |  51 |  47 | 39 |  86 |\n",
       "| 13 | 212 |  80 |  74 | 23 |  97 |   9 |   4 |   3 |  2 |   5 |\n",
       "| 14 | 125 |  48 |  38 | 10 |  48 | 215 |  96 |  39 | 39 |  78 |\n",
       "| 15 | 225 | 125 | 114 | 19 | 133 |  69 |  25 |  15 | 21 |  36 |\n",
       "| 16 |  45 |  23 |  21 |  3 |  24 |   6 |   3 |   2 |  2 |   4 |\n",
       "| 17 | 137 |  55 |  41 | 15 |  56 |  84 |  22 |  10 | 20 |  30 |\n",
       "| 18 | 391 | 214 | 183 | 25 | 208 |  13 |  10 |   6 |  3 |   9 |\n",
       "| 19 |  51 |   9 |   7 |  5 |  12 |   4 |   0 |   0 |  2 |   2 |\n",
       "| 20 |  76 |  22 |  19 | 12 |  31 |  22 |  10 |   4 |  6 |  10 |\n",
       "| 21 | 472 | 220 | 174 | 39 | 213 | 146 |  77 |  49 | 30 |  79 |\n",
       "| 22 |  72 |  25 |  14 |  5 |  19 |  17 |   7 |   1 |  3 |   4 |\n",
       "| 23 | 155 |  71 |  52 | 17 |  69 |  38 |  29 |   8 |  2 |  10 |\n",
       "| 24 | 507 | 307 | 263 | 49 | 312 | 256 | 139 | 107 | 69 | 176 |\n",
       "| 25 | 162 |  56 |  42 |  8 |  50 |   3 |   2 |   2 |  0 |   2 |\n",
       "| 26 |  94 |  47 |  33 |  7 |  40 |   1 |   1 |   1 |  0 |   1 |\n",
       "| 27 |  72 |  27 |  23 |  1 |  24 |   5 |   4 |   3 |  1 |   4 |\n",
       "| 28 | 284 | 110 |  79 | 15 |  94 |   3 |   0 |   0 |  0 |   0 |\n",
       "| 29 |  47 |  12 |  11 |  3 |  14 |   0 |   0 |   0 |  0 |   0 |\n",
       "| 30 |  10 |   1 |   0 |  1 |   1 |   2 |   1 |   0 |  0 |   0 |\n",
       "| ⋮ | ⋮ | ⋮ | ⋮ | ⋮ | ⋮ | ⋮ | ⋮ | ⋮ | ⋮ | ⋮ |\n",
       "| 38 |  24 |  10 |   6 |  0 |   6 |   5 |   2 |  1 |  0 |  1 |\n",
       "| 39 |  83 |  40 |  25 |  9 |  34 |   9 |   3 |  1 |  3 |  4 |\n",
       "| 40 | 362 | 155 | 125 | 34 | 159 | 187 | 107 | 49 | 27 | 76 |\n",
       "| 41 | 132 |  63 |  51 | 10 |  61 |  30 |  16 | 11 |  3 | 14 |\n",
       "| 42 |  78 |  40 |  36 |  4 |  40 |  30 |  14 | 10 |  2 | 12 |\n",
       "| 43 |  66 |  27 |  21 |  1 |  22 |   6 |   3 |  1 |  0 |  1 |\n",
       "| 44 |  34 |   9 |   7 |  2 |   9 |   4 |   1 |  1 |  3 |  4 |\n",
       "| 45 |  16 |   4 |   1 |  0 |   1 |   1 |   1 |  0 |  0 |  0 |\n",
       "| 46 |  90 |  32 |  26 |  7 |  33 |  23 |  13 |  1 |  1 |  2 |\n",
       "| 47 |  45 |  22 |  18 |  1 |  19 |   5 |   4 |  0 |  0 |  0 |\n",
       "| 48 |  46 |  10 |   4 |  0 |   4 |   5 |   4 |  0 |  0 |  0 |\n",
       "| 49 | 122 |  39 |  29 |  4 |  33 |   6 |   3 |  0 |  0 |  0 |\n",
       "| 50 |  17 |   6 |   4 |  2 |   6 |   4 |   0 |  0 |  0 |  0 |\n",
       "| 51 | 180 |  80 |  74 | 13 |  87 |  52 |  18 | 10 |  7 | 17 |\n",
       "| 52 |  57 |  22 |  20 |  6 |  26 |   5 |   1 |  0 |  2 |  2 |\n",
       "| 53 |  29 |   7 |   7 |  0 |   7 |   7 |   2 |  0 |  2 |  2 |\n",
       "| 54 |  81 |  33 |  16 |  3 |  19 |   2 |   1 |  0 |  0 |  0 |\n",
       "| 55 |  47 |  22 |   7 |  2 |   9 |   4 |   1 |  0 |  1 |  1 |\n",
       "| 56 |   4 |   2 |   0 |  0 |   0 |   2 |   2 |  0 |  0 |  0 |\n",
       "| 57 |  43 |  10 |   8 |  2 |  10 |   1 |   0 |  0 |  0 |  0 |\n",
       "| 58 |  66 |  17 |  16 |  4 |  20 |   9 |   4 |  2 |  2 |  4 |\n",
       "| 59 |  35 |   1 |   1 |  2 |   3 |   7 |   2 |  0 |  2 |  2 |\n",
       "| 60 |   2 |   0 |   0 |  0 |   0 |   2 |   0 |  0 |  2 |  2 |\n",
       "| 61 |  23 |  11 |   3 |  0 |   3 |   2 |   0 |  0 |  0 |  0 |\n",
       "| 62 |   8 |   1 |   1 |  0 |   1 |   1 |   0 |  0 |  0 |  0 |\n",
       "| 63 |  15 |   5 |   5 |  0 |   5 |   1 |   1 |  1 |  0 |  1 |\n",
       "| 64 |  16 |   3 |   3 |  0 |   3 |   1 |   1 |  0 |  0 |  0 |\n",
       "| 65 |  17 |   1 |   1 |  1 |   2 |   2 |   2 |  1 |  0 |  1 |\n",
       "| 66 |  50 |  27 |  20 |  6 |  26 |   8 |   6 |  5 |  0 |  5 |\n",
       "| 67 |  10 |   0 |   0 |  1 |   1 |   2 |   1 |  0 |  0 |  0 |\n",
       "\n"
      ],
      "text/plain": [
       "   team matches_7s home_matches_7s home_mins_7s away_wins_7s wins_7s\n",
       "1   1   456        277             243          37           280    \n",
       "2   2   408        268             231          43           274    \n",
       "3   3   257        141              95           9           104    \n",
       "4   4   424        262             223          37           260    \n",
       "5   5   100         43              34          11            45    \n",
       "6   6   267        143             124          16           140    \n",
       "7   7   449        338             305          45           350    \n",
       "8   8   321        157             131          29           160    \n",
       "9   9   393        196             171          22           193    \n",
       "10 10   102         37              31           2            33    \n",
       "11 11   207         61              44           6            50    \n",
       "12 12   363        288             279          38           317    \n",
       "13 13   212         80              74          23            97    \n",
       "14 14   125         48              38          10            48    \n",
       "15 15   225        125             114          19           133    \n",
       "16 16    45         23              21           3            24    \n",
       "17 17   137         55              41          15            56    \n",
       "18 18   391        214             183          25           208    \n",
       "19 19    51          9               7           5            12    \n",
       "20 20    76         22              19          12            31    \n",
       "21 21   472        220             174          39           213    \n",
       "22 22    72         25              14           5            19    \n",
       "23 23   155         71              52          17            69    \n",
       "24 24   507        307             263          49           312    \n",
       "25 25   162         56              42           8            50    \n",
       "26 26    94         47              33           7            40    \n",
       "27 27    72         27              23           1            24    \n",
       "28 28   284        110              79          15            94    \n",
       "29 29    47         12              11           3            14    \n",
       "30 30    10          1               0           1             1    \n",
       "⋮  ⋮    ⋮          ⋮               ⋮            ⋮            ⋮      \n",
       "38 38    24         10               6           0             6    \n",
       "39 39    83         40              25           9            34    \n",
       "40 40   362        155             125          34           159    \n",
       "41 41   132         63              51          10            61    \n",
       "42 42    78         40              36           4            40    \n",
       "43 43    66         27              21           1            22    \n",
       "44 44    34          9               7           2             9    \n",
       "45 45    16          4               1           0             1    \n",
       "46 46    90         32              26           7            33    \n",
       "47 47    45         22              18           1            19    \n",
       "48 48    46         10               4           0             4    \n",
       "49 49   122         39              29           4            33    \n",
       "50 50    17          6               4           2             6    \n",
       "51 51   180         80              74          13            87    \n",
       "52 52    57         22              20           6            26    \n",
       "53 53    29          7               7           0             7    \n",
       "54 54    81         33              16           3            19    \n",
       "55 55    47         22               7           2             9    \n",
       "56 56     4          2               0           0             0    \n",
       "57 57    43         10               8           2            10    \n",
       "58 58    66         17              16           4            20    \n",
       "59 59    35          1               1           2             3    \n",
       "60 60     2          0               0           0             0    \n",
       "61 61    23         11               3           0             3    \n",
       "62 62     8          1               1           0             1    \n",
       "63 63    15          5               5           0             5    \n",
       "64 64    16          3               3           0             3    \n",
       "65 65    17          1               1           1             2    \n",
       "66 66    50         27              20           6            26    \n",
       "67 67    10          0               0           1             1    \n",
       "   matches_15s home_matches_15s home_mins_15s away_wins_15s wins_15s\n",
       "1  296         172              151           98            249     \n",
       "2  140          78               37           26             63     \n",
       "3   51          21                8           10             18     \n",
       "4  124          44               20           37             57     \n",
       "5  214          99               41           43             84     \n",
       "6  125          67               39           22             61     \n",
       "7   56          38               17            3             20     \n",
       "8   14          10                6            1              7     \n",
       "9   58          22               15           13             28     \n",
       "10  32          10                6           10             16     \n",
       "11  29          14                4            3              7     \n",
       "12 103          51               47           39             86     \n",
       "13   9           4                3            2              5     \n",
       "14 215          96               39           39             78     \n",
       "15  69          25               15           21             36     \n",
       "16   6           3                2            2              4     \n",
       "17  84          22               10           20             30     \n",
       "18  13          10                6            3              9     \n",
       "19   4           0                0            2              2     \n",
       "20  22          10                4            6             10     \n",
       "21 146          77               49           30             79     \n",
       "22  17           7                1            3              4     \n",
       "23  38          29                8            2             10     \n",
       "24 256         139              107           69            176     \n",
       "25   3           2                2            0              2     \n",
       "26   1           1                1            0              1     \n",
       "27   5           4                3            1              4     \n",
       "28   3           0                0            0              0     \n",
       "29   0           0                0            0              0     \n",
       "30   2           1                0            0              0     \n",
       "⋮  ⋮           ⋮                ⋮             ⋮             ⋮       \n",
       "38   5           2               1             0             1      \n",
       "39   9           3               1             3             4      \n",
       "40 187         107              49            27            76      \n",
       "41  30          16              11             3            14      \n",
       "42  30          14              10             2            12      \n",
       "43   6           3               1             0             1      \n",
       "44   4           1               1             3             4      \n",
       "45   1           1               0             0             0      \n",
       "46  23          13               1             1             2      \n",
       "47   5           4               0             0             0      \n",
       "48   5           4               0             0             0      \n",
       "49   6           3               0             0             0      \n",
       "50   4           0               0             0             0      \n",
       "51  52          18              10             7            17      \n",
       "52   5           1               0             2             2      \n",
       "53   7           2               0             2             2      \n",
       "54   2           1               0             0             0      \n",
       "55   4           1               0             1             1      \n",
       "56   2           2               0             0             0      \n",
       "57   1           0               0             0             0      \n",
       "58   9           4               2             2             4      \n",
       "59   7           2               0             2             2      \n",
       "60   2           0               0             2             2      \n",
       "61   2           0               0             0             0      \n",
       "62   1           0               0             0             0      \n",
       "63   1           1               1             0             1      \n",
       "64   1           1               0             0             0      \n",
       "65   2           2               1             0             1      \n",
       "66   8           6               5             0             5      \n",
       "67   2           1               0             0             0      "
      ]
     },
     "metadata": {},
     "output_type": "display_data"
    }
   ],
   "source": [
    "team_res <- matrix(nrow = length(teams), ncol = 11)\n",
    "\n",
    "for (i in 1:length(teams)) {\n",
    "\tteam <- teams[i]\n",
    "\tteam_res[i,1] <- i\n",
    "\tteam_res[i,2] <- sevens_matched_teams %>% filter(team_1 == team | team_2 == team) %>% nrow\n",
    "\tteam_res[i,3] <- sevens_matched_teams %>% filter(team_1 == team) %>% nrow\n",
    "\tteam_res[i,4] <- sevens_matched_teams %>% filter(team_1 == team) %>% filter(winner == team) %>% nrow\n",
    "\tteam_res[i,5] <- sevens_matched_teams %>% filter(team_2 == team) %>% filter(winner == team) %>% nrow\n",
    "\tteam_res[i,6] <- sevens_matched_teams %>% filter(winner == team) %>% nrow\n",
    "\t\n",
    "\tteam_res[i,7] <- fifteens_matched_teams %>% filter(team_1 == team | team_2 == team) %>% nrow\n",
    "\tteam_res[i,8] <- fifteens_matched_teams %>% filter(team_1 == team) %>% nrow\n",
    "\tteam_res[i,9] <- fifteens_matched_teams %>% filter(team_1 == team) %>% filter(winner == team) %>% nrow\n",
    "\tteam_res[i,10] <- fifteens_matched_teams %>% filter(team_2 == team) %>% filter(winner == team) %>% nrow\n",
    "\tteam_res[i,11] <- fifteens_matched_teams %>% filter(winner == team) %>% nrow \n",
    "}\n",
    "headers <- c(\n",
    "\t\"team\",\n",
    "\t\"matches_7s\",\n",
    "\t\"home_matches_7s\",\n",
    "\t\"home_mins_7s\",\n",
    "\t\"away_wins_7s\",\n",
    "\t\"wins_7s\",\n",
    "\t\"matches_15s\",\n",
    "\t\"home_matches_15s\",\n",
    "\t\"home_mins_15s\",\n",
    "\t\"away_wins_15s\",\n",
    "\t\"wins_15s\"\n",
    ")\n",
    "\n",
    "team_res <- as.data.frame(team_res)\n",
    "colnames(team_res) <- headers\n",
    "team_res"
   ]
  },
  {
   "cell_type": "code",
   "execution_count": 71,
   "metadata": {
    "vscode": {
     "languageId": "r"
    }
   },
   "outputs": [],
   "source": [
    "team_res$team = teams"
   ]
  },
  {
   "cell_type": "code",
   "execution_count": 74,
   "metadata": {
    "vscode": {
     "languageId": "r"
    }
   },
   "outputs": [],
   "source": [
    "team_res %>% filter(matches_7s > 0 & matches_15s > 0) %>% mutate(win_rate_7s = wins_7s/matches_7s, win_rate_15s = wins_15s/matches_15s) -> team_res"
   ]
  },
  {
   "cell_type": "markdown",
   "metadata": {},
   "source": [
    "Now we have win rates for each team, we can compare 15s to 7s"
   ]
  },
  {
   "cell_type": "code",
   "execution_count": 84,
   "metadata": {
    "vscode": {
     "languageId": "r"
    }
   },
   "outputs": [
    {
     "name": "stderr",
     "output_type": "stream",
     "text": [
      "`geom_smooth()` using formula 'y ~ x'\n",
      "\n"
     ]
    },
    {
     "data": {
      "image/png": "[encoded data removed]",
      "text/plain": [
       "plot without title"
      ]
     },
     "metadata": {
      "image/png": {
       "height": 420,
       "width": 420
      }
     },
     "output_type": "display_data"
    }
   ],
   "source": [
    "ggplot(team_res, aes(x=win_rate_15s, y=win_rate_7s)) + \n",
    "\tgeom_point() + \n",
    "\tgeom_smooth(method=lm)\n"
   ]
  },
  {
   "cell_type": "markdown",
   "metadata": {},
   "source": [
    "The above plot indicates that teams with a stronger 15s squad also tend to have a strong 7s squad. \n",
    "\n",
    "There are a few points that need highlighting here. \n",
    "\n",
    "1. This is based on win ratios, so is dependent upon the number of matches played. A team may more frequently play 15s but only ocassionsally play 7s perhaps as part of an exhibition match."
   ]
  }
 ],
 "metadata": {
  "kernelspec": {
   "display_name": "R",
   "language": "R",
   "name": "ir"
  },
  "language_info": {
   "codemirror_mode": "r",
   "file_extension": ".r",
   "mimetype": "text/x-r-source",
   "name": "R",
   "pygments_lexer": "r",
   "version": "4.2.0"
  },
  "orig_nbformat": 4
 },
 "nbformat": 4,
 "nbformat_minor": 2
}
