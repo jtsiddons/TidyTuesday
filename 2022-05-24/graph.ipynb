{
 "cells": [
  {
   "cell_type": "markdown",
   "metadata": {},
   "source": [
    "# Womens Rugby Team Graph\n",
    "\n",
    "A graph of who pairwise matches between teams. Visualising which teams frequently play each other. I also want to investigate the structure of the graph - do we detect sub-communities & if so, do they reflect features such as European or Southern tournaments.\n",
    "\n",
    "Which teams are important - have high levels of centrality. How does this differ between 7s and 15s.\n",
    "\n",
    "The initial plan is to use `networkx` package for visualisation, but to make it fancy I hope to utilise `pyvis`"
   ]
  },
  {
   "cell_type": "code",
   "execution_count": 1,
   "metadata": {},
   "outputs": [],
   "source": [
    "import numpy as np\n",
    "import pandas as pd\n",
    "import networkx as nx\n",
    "import matplotlib.pyplot as plt"
   ]
  },
  {
   "cell_type": "markdown",
   "metadata": {},
   "source": [
    "## 15s\n",
    "\n",
    "I'll start with *proper rugby*, aka 15s rugby, I'll compare the results with 7s later on. \n",
    "\n",
    "### Data\n",
    "\n",
    "First I load in the data, I need to generate the adjaceny matrix, this will result in a weighted graph where the edge weights correspond to the number of matches played between the pair of teams. Further, the vertex size will correspond to the win-rate of the team represented by that vertex."
   ]
  },
  {
   "cell_type": "code",
   "execution_count": 6,
   "metadata": {},
   "outputs": [
    {
     "data": {
      "text/html": [
       "<div>\n",
       "<style scoped>\n",
       "    .dataframe tbody tr th:only-of-type {\n",
       "        vertical-align: middle;\n",
       "    }\n",
       "\n",
       "    .dataframe tbody tr th {\n",
       "        vertical-align: top;\n",
       "    }\n",
       "\n",
       "    .dataframe thead th {\n",
       "        text-align: right;\n",
       "    }\n",
       "</style>\n",
       "<table border=\"1\" class=\"dataframe\">\n",
       "  <thead>\n",
       "    <tr style=\"text-align: right;\">\n",
       "      <th></th>\n",
       "      <th>test_no</th>\n",
       "      <th>date</th>\n",
       "      <th>team_1</th>\n",
       "      <th>score_1</th>\n",
       "      <th>score_2</th>\n",
       "      <th>team_2</th>\n",
       "      <th>venue</th>\n",
       "      <th>home_test_no</th>\n",
       "      <th>away_test_no</th>\n",
       "      <th>series_no</th>\n",
       "      <th>tournament</th>\n",
       "      <th>margin_of_victory</th>\n",
       "      <th>home_away_win</th>\n",
       "      <th>winner</th>\n",
       "      <th>loser</th>\n",
       "    </tr>\n",
       "  </thead>\n",
       "  <tbody>\n",
       "    <tr>\n",
       "      <th>0</th>\n",
       "      <td>1</td>\n",
       "      <td>1982-06-13</td>\n",
       "      <td>Netherlands</td>\n",
       "      <td>0</td>\n",
       "      <td>4</td>\n",
       "      <td>France</td>\n",
       "      <td>Utrecht</td>\n",
       "      <td>1</td>\n",
       "      <td>1</td>\n",
       "      <td>1</td>\n",
       "      <td>Friendly</td>\n",
       "      <td>4</td>\n",
       "      <td>A</td>\n",
       "      <td>France</td>\n",
       "      <td>Netherlands</td>\n",
       "    </tr>\n",
       "    <tr>\n",
       "      <th>1</th>\n",
       "      <td>2</td>\n",
       "      <td>1983-06-05</td>\n",
       "      <td>France</td>\n",
       "      <td>10</td>\n",
       "      <td>0</td>\n",
       "      <td>Netherlands</td>\n",
       "      <td>La Teste</td>\n",
       "      <td>2</td>\n",
       "      <td>2</td>\n",
       "      <td>2</td>\n",
       "      <td>Friendly</td>\n",
       "      <td>10</td>\n",
       "      <td>H</td>\n",
       "      <td>France</td>\n",
       "      <td>Netherlands</td>\n",
       "    </tr>\n",
       "    <tr>\n",
       "      <th>2</th>\n",
       "      <td>3</td>\n",
       "      <td>1984-05-27</td>\n",
       "      <td>Netherlands</td>\n",
       "      <td>0</td>\n",
       "      <td>3</td>\n",
       "      <td>France</td>\n",
       "      <td>Hilversum</td>\n",
       "      <td>3</td>\n",
       "      <td>3</td>\n",
       "      <td>3</td>\n",
       "      <td>Friendly</td>\n",
       "      <td>3</td>\n",
       "      <td>A</td>\n",
       "      <td>France</td>\n",
       "      <td>Netherlands</td>\n",
       "    </tr>\n",
       "    <tr>\n",
       "      <th>3</th>\n",
       "      <td>4</td>\n",
       "      <td>1984-12-31</td>\n",
       "      <td>Sweden</td>\n",
       "      <td>0</td>\n",
       "      <td>34</td>\n",
       "      <td>Netherlands</td>\n",
       "      <td>Malmö</td>\n",
       "      <td>1</td>\n",
       "      <td>4</td>\n",
       "      <td>1</td>\n",
       "      <td>Friendly</td>\n",
       "      <td>34</td>\n",
       "      <td>A</td>\n",
       "      <td>Netherlands</td>\n",
       "      <td>Sweden</td>\n",
       "    </tr>\n",
       "    <tr>\n",
       "      <th>4</th>\n",
       "      <td>5</td>\n",
       "      <td>1985-06-02</td>\n",
       "      <td>France</td>\n",
       "      <td>20</td>\n",
       "      <td>0</td>\n",
       "      <td>Netherlands</td>\n",
       "      <td>Bourg en Bresse</td>\n",
       "      <td>4</td>\n",
       "      <td>5</td>\n",
       "      <td>4</td>\n",
       "      <td>Friendly</td>\n",
       "      <td>20</td>\n",
       "      <td>H</td>\n",
       "      <td>France</td>\n",
       "      <td>Netherlands</td>\n",
       "    </tr>\n",
       "  </tbody>\n",
       "</table>\n",
       "</div>"
      ],
      "text/plain": [
       "   test_no        date       team_1  score_1  score_2       team_2  \\\n",
       "0        1  1982-06-13  Netherlands        0        4       France   \n",
       "1        2  1983-06-05       France       10        0  Netherlands   \n",
       "2        3  1984-05-27  Netherlands        0        3       France   \n",
       "3        4  1984-12-31       Sweden        0       34  Netherlands   \n",
       "4        5  1985-06-02       France       20        0  Netherlands   \n",
       "\n",
       "             venue  home_test_no  away_test_no  series_no tournament  \\\n",
       "0          Utrecht             1             1          1   Friendly   \n",
       "1         La Teste             2             2          2   Friendly   \n",
       "2        Hilversum             3             3          3   Friendly   \n",
       "3            Malmö             1             4          1   Friendly   \n",
       "4  Bourg en Bresse             4             5          4   Friendly   \n",
       "\n",
       "   margin_of_victory home_away_win       winner        loser  \n",
       "0                  4             A       France  Netherlands  \n",
       "1                 10             H       France  Netherlands  \n",
       "2                  3             A       France  Netherlands  \n",
       "3                 34             A  Netherlands       Sweden  \n",
       "4                 20             H       France  Netherlands  "
      ]
     },
     "execution_count": 6,
     "metadata": {},
     "output_type": "execute_result"
    }
   ],
   "source": [
    "df15s = pd.read_csv(\"./data/fifteens.csv\")\n",
    "df15s.head(5)"
   ]
  },
  {
   "cell_type": "code",
   "execution_count": 7,
   "metadata": {},
   "outputs": [
    {
     "data": {
      "text/plain": [
       "(1468, 15)"
      ]
     },
     "execution_count": 7,
     "metadata": {},
     "output_type": "execute_result"
    }
   ],
   "source": [
    "df15s.shape"
   ]
  },
  {
   "cell_type": "markdown",
   "metadata": {},
   "source": [
    "### Adjacency matrix\n",
    "\n",
    "Plan for contstructing $\\hat{A}$.\n",
    "\n",
    "1. Groupby team_1 and team_2.\n",
    "2. Count number of matches.\n",
    "3. Convert to wide format.\n",
    "4. Convert to array/matrix and symmetrise by summation - this will handle the home/away challenge."
   ]
  },
  {
   "cell_type": "code",
   "execution_count": null,
   "metadata": {},
   "outputs": [],
   "source": []
  }
 ],
 "metadata": {
  "interpreter": {
   "hash": "e7370f93d1d0cde622a1f8e1c04877d8463912d04d973331ad4851f04de6915a"
  },
  "kernelspec": {
   "display_name": "Python 3.10.4 64-bit",
   "language": "python",
   "name": "python3"
  },
  "language_info": {
   "codemirror_mode": {
    "name": "ipython",
    "version": 3
   },
   "file_extension": ".py",
   "mimetype": "text/x-python",
   "name": "python",
   "nbconvert_exporter": "python",
   "pygments_lexer": "ipython3",
   "version": "3.10.4"
  },
  "orig_nbformat": 4
 },
 "nbformat": 4,
 "nbformat_minor": 2
}
